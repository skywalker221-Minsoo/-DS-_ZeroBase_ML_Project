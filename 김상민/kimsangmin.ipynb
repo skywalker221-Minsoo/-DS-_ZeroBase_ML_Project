{
 "cells": [
  {
   "attachments": {},
   "cell_type": "markdown",
   "metadata": {},
   "source": [
    "## ML 프로젝트 : Predict Customer Churn in telecom company"
   ]
  },
  {
   "attachments": {},
   "cell_type": "markdown",
   "metadata": {},
   "source": [
    "---"
   ]
  },
  {
   "attachments": {},
   "cell_type": "markdown",
   "metadata": {},
   "source": [
    "## 1. 데이터 불러오기 및 기본정리"
   ]
  },
  {
   "cell_type": "code",
   "execution_count": 1,
   "metadata": {},
   "outputs": [],
   "source": [
    "import pandas as pd\n",
    "import numpy as np\n",
    "import seaborn as sns\n",
    "sns.set(color_codes=True)\n",
    "# sns.set(font=‘Arial Unicode MS’)\n",
    "\n",
    "import matplotlib.pyplot as plt\n",
    "from matplotlib import rc\n",
    "rc('font', family='Arial Unicode MS')\n",
    "%matplotlib inline"
   ]
  },
  {
   "cell_type": "code",
   "execution_count": 2,
   "metadata": {},
   "outputs": [],
   "source": [
    "train = pd.read_csv('./data/cell2celltrain.csv')\n",
    "test = pd.read_csv('./data/cell2cellholdout.csv')"
   ]
  },
  {
   "cell_type": "code",
   "execution_count": 3,
   "metadata": {},
   "outputs": [
    {
     "data": {
      "text/html": [
       "<div>\n",
       "<style scoped>\n",
       "    .dataframe tbody tr th:only-of-type {\n",
       "        vertical-align: middle;\n",
       "    }\n",
       "\n",
       "    .dataframe tbody tr th {\n",
       "        vertical-align: top;\n",
       "    }\n",
       "\n",
       "    .dataframe thead th {\n",
       "        text-align: right;\n",
       "    }\n",
       "</style>\n",
       "<table border=\"1\" class=\"dataframe\">\n",
       "  <thead>\n",
       "    <tr style=\"text-align: right;\">\n",
       "      <th></th>\n",
       "      <th>CustomerID</th>\n",
       "      <th>Churn</th>\n",
       "      <th>MonthlyRevenue</th>\n",
       "      <th>MonthlyMinutes</th>\n",
       "      <th>TotalRecurringCharge</th>\n",
       "      <th>DirectorAssistedCalls</th>\n",
       "      <th>OverageMinutes</th>\n",
       "      <th>RoamingCalls</th>\n",
       "      <th>PercChangeMinutes</th>\n",
       "      <th>PercChangeRevenues</th>\n",
       "      <th>DroppedCalls</th>\n",
       "      <th>BlockedCalls</th>\n",
       "      <th>UnansweredCalls</th>\n",
       "      <th>CustomerCareCalls</th>\n",
       "      <th>ThreewayCalls</th>\n",
       "      <th>ReceivedCalls</th>\n",
       "      <th>OutboundCalls</th>\n",
       "      <th>InboundCalls</th>\n",
       "      <th>PeakCallsInOut</th>\n",
       "      <th>OffPeakCallsInOut</th>\n",
       "    </tr>\n",
       "  </thead>\n",
       "  <tbody>\n",
       "    <tr>\n",
       "      <th>0</th>\n",
       "      <td>3000002</td>\n",
       "      <td>Yes</td>\n",
       "      <td>24.00</td>\n",
       "      <td>219.0</td>\n",
       "      <td>22.0</td>\n",
       "      <td>0.25</td>\n",
       "      <td>0.0</td>\n",
       "      <td>0.0</td>\n",
       "      <td>-157.0</td>\n",
       "      <td>-19.0</td>\n",
       "      <td>0.7</td>\n",
       "      <td>0.7</td>\n",
       "      <td>6.3</td>\n",
       "      <td>0.0</td>\n",
       "      <td>0.0</td>\n",
       "      <td>97.2</td>\n",
       "      <td>0.0</td>\n",
       "      <td>0.0</td>\n",
       "      <td>58.0</td>\n",
       "      <td>24.0</td>\n",
       "    </tr>\n",
       "    <tr>\n",
       "      <th>1</th>\n",
       "      <td>3000010</td>\n",
       "      <td>Yes</td>\n",
       "      <td>16.99</td>\n",
       "      <td>10.0</td>\n",
       "      <td>17.0</td>\n",
       "      <td>0.00</td>\n",
       "      <td>0.0</td>\n",
       "      <td>0.0</td>\n",
       "      <td>-4.0</td>\n",
       "      <td>0.0</td>\n",
       "      <td>0.3</td>\n",
       "      <td>0.0</td>\n",
       "      <td>2.7</td>\n",
       "      <td>0.0</td>\n",
       "      <td>0.0</td>\n",
       "      <td>0.0</td>\n",
       "      <td>0.0</td>\n",
       "      <td>0.0</td>\n",
       "      <td>5.0</td>\n",
       "      <td>1.0</td>\n",
       "    </tr>\n",
       "    <tr>\n",
       "      <th>2</th>\n",
       "      <td>3000014</td>\n",
       "      <td>No</td>\n",
       "      <td>38.00</td>\n",
       "      <td>8.0</td>\n",
       "      <td>38.0</td>\n",
       "      <td>0.00</td>\n",
       "      <td>0.0</td>\n",
       "      <td>0.0</td>\n",
       "      <td>-2.0</td>\n",
       "      <td>0.0</td>\n",
       "      <td>0.0</td>\n",
       "      <td>0.0</td>\n",
       "      <td>0.0</td>\n",
       "      <td>0.0</td>\n",
       "      <td>0.0</td>\n",
       "      <td>0.4</td>\n",
       "      <td>0.3</td>\n",
       "      <td>0.0</td>\n",
       "      <td>1.3</td>\n",
       "      <td>3.7</td>\n",
       "    </tr>\n",
       "    <tr>\n",
       "      <th>3</th>\n",
       "      <td>3000022</td>\n",
       "      <td>No</td>\n",
       "      <td>82.28</td>\n",
       "      <td>1312.0</td>\n",
       "      <td>75.0</td>\n",
       "      <td>1.24</td>\n",
       "      <td>0.0</td>\n",
       "      <td>0.0</td>\n",
       "      <td>157.0</td>\n",
       "      <td>8.1</td>\n",
       "      <td>52.0</td>\n",
       "      <td>7.7</td>\n",
       "      <td>76.0</td>\n",
       "      <td>4.3</td>\n",
       "      <td>1.3</td>\n",
       "      <td>200.3</td>\n",
       "      <td>370.3</td>\n",
       "      <td>147.0</td>\n",
       "      <td>555.7</td>\n",
       "      <td>303.7</td>\n",
       "    </tr>\n",
       "    <tr>\n",
       "      <th>4</th>\n",
       "      <td>3000026</td>\n",
       "      <td>Yes</td>\n",
       "      <td>17.14</td>\n",
       "      <td>0.0</td>\n",
       "      <td>17.0</td>\n",
       "      <td>0.00</td>\n",
       "      <td>0.0</td>\n",
       "      <td>0.0</td>\n",
       "      <td>0.0</td>\n",
       "      <td>-0.2</td>\n",
       "      <td>0.0</td>\n",
       "      <td>0.0</td>\n",
       "      <td>0.0</td>\n",
       "      <td>0.0</td>\n",
       "      <td>0.0</td>\n",
       "      <td>0.0</td>\n",
       "      <td>0.0</td>\n",
       "      <td>0.0</td>\n",
       "      <td>0.0</td>\n",
       "      <td>0.0</td>\n",
       "    </tr>\n",
       "  </tbody>\n",
       "</table>\n",
       "</div>"
      ],
      "text/plain": [
       "   CustomerID Churn  MonthlyRevenue  MonthlyMinutes  TotalRecurringCharge   \n",
       "0     3000002   Yes           24.00           219.0                  22.0  \\\n",
       "1     3000010   Yes           16.99            10.0                  17.0   \n",
       "2     3000014    No           38.00             8.0                  38.0   \n",
       "3     3000022    No           82.28          1312.0                  75.0   \n",
       "4     3000026   Yes           17.14             0.0                  17.0   \n",
       "\n",
       "   DirectorAssistedCalls  OverageMinutes  RoamingCalls  PercChangeMinutes   \n",
       "0                   0.25             0.0           0.0             -157.0  \\\n",
       "1                   0.00             0.0           0.0               -4.0   \n",
       "2                   0.00             0.0           0.0               -2.0   \n",
       "3                   1.24             0.0           0.0              157.0   \n",
       "4                   0.00             0.0           0.0                0.0   \n",
       "\n",
       "   PercChangeRevenues  DroppedCalls  BlockedCalls  UnansweredCalls   \n",
       "0               -19.0           0.7           0.7              6.3  \\\n",
       "1                 0.0           0.3           0.0              2.7   \n",
       "2                 0.0           0.0           0.0              0.0   \n",
       "3                 8.1          52.0           7.7             76.0   \n",
       "4                -0.2           0.0           0.0              0.0   \n",
       "\n",
       "   CustomerCareCalls  ThreewayCalls  ReceivedCalls  OutboundCalls   \n",
       "0                0.0            0.0           97.2            0.0  \\\n",
       "1                0.0            0.0            0.0            0.0   \n",
       "2                0.0            0.0            0.4            0.3   \n",
       "3                4.3            1.3          200.3          370.3   \n",
       "4                0.0            0.0            0.0            0.0   \n",
       "\n",
       "   InboundCalls  PeakCallsInOut  OffPeakCallsInOut  \n",
       "0           0.0            58.0               24.0  \n",
       "1           0.0             5.0                1.0  \n",
       "2           0.0             1.3                3.7  \n",
       "3         147.0           555.7              303.7  \n",
       "4           0.0             0.0                0.0  "
      ]
     },
     "execution_count": 3,
     "metadata": {},
     "output_type": "execute_result"
    }
   ],
   "source": [
    "train.iloc[:5, :20]"
   ]
  },
  {
   "cell_type": "code",
   "execution_count": 4,
   "metadata": {},
   "outputs": [
    {
     "data": {
      "text/html": [
       "<div>\n",
       "<style scoped>\n",
       "    .dataframe tbody tr th:only-of-type {\n",
       "        vertical-align: middle;\n",
       "    }\n",
       "\n",
       "    .dataframe tbody tr th {\n",
       "        vertical-align: top;\n",
       "    }\n",
       "\n",
       "    .dataframe thead th {\n",
       "        text-align: right;\n",
       "    }\n",
       "</style>\n",
       "<table border=\"1\" class=\"dataframe\">\n",
       "  <thead>\n",
       "    <tr style=\"text-align: right;\">\n",
       "      <th></th>\n",
       "      <th>DroppedBlockedCalls</th>\n",
       "      <th>CallForwardingCalls</th>\n",
       "      <th>CallWaitingCalls</th>\n",
       "      <th>MonthsInService</th>\n",
       "      <th>UniqueSubs</th>\n",
       "      <th>ActiveSubs</th>\n",
       "      <th>ServiceArea</th>\n",
       "      <th>Handsets</th>\n",
       "      <th>HandsetModels</th>\n",
       "      <th>CurrentEquipmentDays</th>\n",
       "      <th>AgeHH1</th>\n",
       "      <th>AgeHH2</th>\n",
       "      <th>ChildrenInHH</th>\n",
       "      <th>HandsetRefurbished</th>\n",
       "      <th>HandsetWebCapable</th>\n",
       "      <th>TruckOwner</th>\n",
       "      <th>RVOwner</th>\n",
       "      <th>Homeownership</th>\n",
       "      <th>BuysViaMailOrder</th>\n",
       "      <th>RespondsToMailOffers</th>\n",
       "    </tr>\n",
       "  </thead>\n",
       "  <tbody>\n",
       "    <tr>\n",
       "      <th>0</th>\n",
       "      <td>1.3</td>\n",
       "      <td>0.0</td>\n",
       "      <td>0.3</td>\n",
       "      <td>61</td>\n",
       "      <td>2</td>\n",
       "      <td>1</td>\n",
       "      <td>SEAPOR503</td>\n",
       "      <td>2.0</td>\n",
       "      <td>2.0</td>\n",
       "      <td>361.0</td>\n",
       "      <td>62.0</td>\n",
       "      <td>0.0</td>\n",
       "      <td>No</td>\n",
       "      <td>No</td>\n",
       "      <td>Yes</td>\n",
       "      <td>No</td>\n",
       "      <td>No</td>\n",
       "      <td>Known</td>\n",
       "      <td>Yes</td>\n",
       "      <td>Yes</td>\n",
       "    </tr>\n",
       "    <tr>\n",
       "      <th>1</th>\n",
       "      <td>0.3</td>\n",
       "      <td>0.0</td>\n",
       "      <td>0.0</td>\n",
       "      <td>58</td>\n",
       "      <td>1</td>\n",
       "      <td>1</td>\n",
       "      <td>PITHOM412</td>\n",
       "      <td>2.0</td>\n",
       "      <td>1.0</td>\n",
       "      <td>1504.0</td>\n",
       "      <td>40.0</td>\n",
       "      <td>42.0</td>\n",
       "      <td>Yes</td>\n",
       "      <td>No</td>\n",
       "      <td>No</td>\n",
       "      <td>No</td>\n",
       "      <td>No</td>\n",
       "      <td>Known</td>\n",
       "      <td>Yes</td>\n",
       "      <td>Yes</td>\n",
       "    </tr>\n",
       "    <tr>\n",
       "      <th>2</th>\n",
       "      <td>0.0</td>\n",
       "      <td>0.0</td>\n",
       "      <td>0.0</td>\n",
       "      <td>60</td>\n",
       "      <td>1</td>\n",
       "      <td>1</td>\n",
       "      <td>MILMIL414</td>\n",
       "      <td>1.0</td>\n",
       "      <td>1.0</td>\n",
       "      <td>1812.0</td>\n",
       "      <td>26.0</td>\n",
       "      <td>26.0</td>\n",
       "      <td>Yes</td>\n",
       "      <td>No</td>\n",
       "      <td>No</td>\n",
       "      <td>No</td>\n",
       "      <td>No</td>\n",
       "      <td>Unknown</td>\n",
       "      <td>No</td>\n",
       "      <td>No</td>\n",
       "    </tr>\n",
       "    <tr>\n",
       "      <th>3</th>\n",
       "      <td>59.7</td>\n",
       "      <td>0.0</td>\n",
       "      <td>22.7</td>\n",
       "      <td>59</td>\n",
       "      <td>2</td>\n",
       "      <td>2</td>\n",
       "      <td>PITHOM412</td>\n",
       "      <td>9.0</td>\n",
       "      <td>4.0</td>\n",
       "      <td>458.0</td>\n",
       "      <td>30.0</td>\n",
       "      <td>0.0</td>\n",
       "      <td>No</td>\n",
       "      <td>No</td>\n",
       "      <td>Yes</td>\n",
       "      <td>No</td>\n",
       "      <td>No</td>\n",
       "      <td>Known</td>\n",
       "      <td>Yes</td>\n",
       "      <td>Yes</td>\n",
       "    </tr>\n",
       "    <tr>\n",
       "      <th>4</th>\n",
       "      <td>0.0</td>\n",
       "      <td>0.0</td>\n",
       "      <td>0.0</td>\n",
       "      <td>53</td>\n",
       "      <td>2</td>\n",
       "      <td>2</td>\n",
       "      <td>OKCTUL918</td>\n",
       "      <td>4.0</td>\n",
       "      <td>3.0</td>\n",
       "      <td>852.0</td>\n",
       "      <td>46.0</td>\n",
       "      <td>54.0</td>\n",
       "      <td>No</td>\n",
       "      <td>No</td>\n",
       "      <td>No</td>\n",
       "      <td>No</td>\n",
       "      <td>No</td>\n",
       "      <td>Known</td>\n",
       "      <td>Yes</td>\n",
       "      <td>Yes</td>\n",
       "    </tr>\n",
       "  </tbody>\n",
       "</table>\n",
       "</div>"
      ],
      "text/plain": [
       "   DroppedBlockedCalls  CallForwardingCalls  CallWaitingCalls   \n",
       "0                  1.3                  0.0               0.3  \\\n",
       "1                  0.3                  0.0               0.0   \n",
       "2                  0.0                  0.0               0.0   \n",
       "3                 59.7                  0.0              22.7   \n",
       "4                  0.0                  0.0               0.0   \n",
       "\n",
       "   MonthsInService  UniqueSubs  ActiveSubs ServiceArea  Handsets   \n",
       "0               61           2           1   SEAPOR503       2.0  \\\n",
       "1               58           1           1   PITHOM412       2.0   \n",
       "2               60           1           1   MILMIL414       1.0   \n",
       "3               59           2           2   PITHOM412       9.0   \n",
       "4               53           2           2   OKCTUL918       4.0   \n",
       "\n",
       "   HandsetModels  CurrentEquipmentDays  AgeHH1  AgeHH2 ChildrenInHH   \n",
       "0            2.0                 361.0    62.0     0.0           No  \\\n",
       "1            1.0                1504.0    40.0    42.0          Yes   \n",
       "2            1.0                1812.0    26.0    26.0          Yes   \n",
       "3            4.0                 458.0    30.0     0.0           No   \n",
       "4            3.0                 852.0    46.0    54.0           No   \n",
       "\n",
       "  HandsetRefurbished HandsetWebCapable TruckOwner RVOwner Homeownership   \n",
       "0                 No               Yes         No      No         Known  \\\n",
       "1                 No                No         No      No         Known   \n",
       "2                 No                No         No      No       Unknown   \n",
       "3                 No               Yes         No      No         Known   \n",
       "4                 No                No         No      No         Known   \n",
       "\n",
       "  BuysViaMailOrder RespondsToMailOffers  \n",
       "0              Yes                  Yes  \n",
       "1              Yes                  Yes  \n",
       "2               No                   No  \n",
       "3              Yes                  Yes  \n",
       "4              Yes                  Yes  "
      ]
     },
     "execution_count": 4,
     "metadata": {},
     "output_type": "execute_result"
    }
   ],
   "source": [
    "train.iloc[:5, 20:40]"
   ]
  },
  {
   "cell_type": "code",
   "execution_count": 5,
   "metadata": {},
   "outputs": [
    {
     "data": {
      "text/html": [
       "<div>\n",
       "<style scoped>\n",
       "    .dataframe tbody tr th:only-of-type {\n",
       "        vertical-align: middle;\n",
       "    }\n",
       "\n",
       "    .dataframe tbody tr th {\n",
       "        vertical-align: top;\n",
       "    }\n",
       "\n",
       "    .dataframe thead th {\n",
       "        text-align: right;\n",
       "    }\n",
       "</style>\n",
       "<table border=\"1\" class=\"dataframe\">\n",
       "  <thead>\n",
       "    <tr style=\"text-align: right;\">\n",
       "      <th></th>\n",
       "      <th>OptOutMailings</th>\n",
       "      <th>NonUSTravel</th>\n",
       "      <th>OwnsComputer</th>\n",
       "      <th>HasCreditCard</th>\n",
       "      <th>RetentionCalls</th>\n",
       "      <th>RetentionOffersAccepted</th>\n",
       "      <th>NewCellphoneUser</th>\n",
       "      <th>NotNewCellphoneUser</th>\n",
       "      <th>ReferralsMadeBySubscriber</th>\n",
       "      <th>IncomeGroup</th>\n",
       "      <th>OwnsMotorcycle</th>\n",
       "      <th>AdjustmentsToCreditRating</th>\n",
       "      <th>HandsetPrice</th>\n",
       "      <th>MadeCallToRetentionTeam</th>\n",
       "      <th>CreditRating</th>\n",
       "      <th>PrizmCode</th>\n",
       "      <th>Occupation</th>\n",
       "      <th>MaritalStatus</th>\n",
       "    </tr>\n",
       "  </thead>\n",
       "  <tbody>\n",
       "    <tr>\n",
       "      <th>0</th>\n",
       "      <td>No</td>\n",
       "      <td>No</td>\n",
       "      <td>Yes</td>\n",
       "      <td>Yes</td>\n",
       "      <td>1</td>\n",
       "      <td>0</td>\n",
       "      <td>No</td>\n",
       "      <td>No</td>\n",
       "      <td>0</td>\n",
       "      <td>4</td>\n",
       "      <td>No</td>\n",
       "      <td>0</td>\n",
       "      <td>30</td>\n",
       "      <td>Yes</td>\n",
       "      <td>1-Highest</td>\n",
       "      <td>Suburban</td>\n",
       "      <td>Professional</td>\n",
       "      <td>No</td>\n",
       "    </tr>\n",
       "    <tr>\n",
       "      <th>1</th>\n",
       "      <td>No</td>\n",
       "      <td>No</td>\n",
       "      <td>Yes</td>\n",
       "      <td>Yes</td>\n",
       "      <td>0</td>\n",
       "      <td>0</td>\n",
       "      <td>Yes</td>\n",
       "      <td>No</td>\n",
       "      <td>0</td>\n",
       "      <td>5</td>\n",
       "      <td>No</td>\n",
       "      <td>0</td>\n",
       "      <td>30</td>\n",
       "      <td>No</td>\n",
       "      <td>4-Medium</td>\n",
       "      <td>Suburban</td>\n",
       "      <td>Professional</td>\n",
       "      <td>Yes</td>\n",
       "    </tr>\n",
       "    <tr>\n",
       "      <th>2</th>\n",
       "      <td>No</td>\n",
       "      <td>No</td>\n",
       "      <td>No</td>\n",
       "      <td>Yes</td>\n",
       "      <td>0</td>\n",
       "      <td>0</td>\n",
       "      <td>Yes</td>\n",
       "      <td>No</td>\n",
       "      <td>0</td>\n",
       "      <td>6</td>\n",
       "      <td>No</td>\n",
       "      <td>0</td>\n",
       "      <td>Unknown</td>\n",
       "      <td>No</td>\n",
       "      <td>3-Good</td>\n",
       "      <td>Town</td>\n",
       "      <td>Crafts</td>\n",
       "      <td>Yes</td>\n",
       "    </tr>\n",
       "    <tr>\n",
       "      <th>3</th>\n",
       "      <td>No</td>\n",
       "      <td>No</td>\n",
       "      <td>No</td>\n",
       "      <td>Yes</td>\n",
       "      <td>0</td>\n",
       "      <td>0</td>\n",
       "      <td>Yes</td>\n",
       "      <td>No</td>\n",
       "      <td>0</td>\n",
       "      <td>6</td>\n",
       "      <td>No</td>\n",
       "      <td>0</td>\n",
       "      <td>10</td>\n",
       "      <td>No</td>\n",
       "      <td>4-Medium</td>\n",
       "      <td>Other</td>\n",
       "      <td>Other</td>\n",
       "      <td>No</td>\n",
       "    </tr>\n",
       "    <tr>\n",
       "      <th>4</th>\n",
       "      <td>No</td>\n",
       "      <td>No</td>\n",
       "      <td>Yes</td>\n",
       "      <td>Yes</td>\n",
       "      <td>0</td>\n",
       "      <td>0</td>\n",
       "      <td>No</td>\n",
       "      <td>Yes</td>\n",
       "      <td>0</td>\n",
       "      <td>9</td>\n",
       "      <td>No</td>\n",
       "      <td>1</td>\n",
       "      <td>10</td>\n",
       "      <td>No</td>\n",
       "      <td>1-Highest</td>\n",
       "      <td>Other</td>\n",
       "      <td>Professional</td>\n",
       "      <td>Yes</td>\n",
       "    </tr>\n",
       "  </tbody>\n",
       "</table>\n",
       "</div>"
      ],
      "text/plain": [
       "  OptOutMailings NonUSTravel OwnsComputer HasCreditCard  RetentionCalls   \n",
       "0             No          No          Yes           Yes               1  \\\n",
       "1             No          No          Yes           Yes               0   \n",
       "2             No          No           No           Yes               0   \n",
       "3             No          No           No           Yes               0   \n",
       "4             No          No          Yes           Yes               0   \n",
       "\n",
       "   RetentionOffersAccepted NewCellphoneUser NotNewCellphoneUser   \n",
       "0                        0               No                  No  \\\n",
       "1                        0              Yes                  No   \n",
       "2                        0              Yes                  No   \n",
       "3                        0              Yes                  No   \n",
       "4                        0               No                 Yes   \n",
       "\n",
       "   ReferralsMadeBySubscriber  IncomeGroup OwnsMotorcycle   \n",
       "0                          0            4             No  \\\n",
       "1                          0            5             No   \n",
       "2                          0            6             No   \n",
       "3                          0            6             No   \n",
       "4                          0            9             No   \n",
       "\n",
       "   AdjustmentsToCreditRating HandsetPrice MadeCallToRetentionTeam   \n",
       "0                          0           30                     Yes  \\\n",
       "1                          0           30                      No   \n",
       "2                          0      Unknown                      No   \n",
       "3                          0           10                      No   \n",
       "4                          1           10                      No   \n",
       "\n",
       "  CreditRating PrizmCode    Occupation MaritalStatus  \n",
       "0    1-Highest  Suburban  Professional            No  \n",
       "1     4-Medium  Suburban  Professional           Yes  \n",
       "2       3-Good      Town        Crafts           Yes  \n",
       "3     4-Medium     Other         Other            No  \n",
       "4    1-Highest     Other  Professional           Yes  "
      ]
     },
     "execution_count": 5,
     "metadata": {},
     "output_type": "execute_result"
    }
   ],
   "source": [
    "train.iloc[:5, 40:]"
   ]
  },
  {
   "attachments": {},
   "cell_type": "markdown",
   "metadata": {},
   "source": [
    "#### 결측치 확인"
   ]
  },
  {
   "cell_type": "code",
   "execution_count": 62,
   "metadata": {},
   "outputs": [
    {
     "data": {
      "text/plain": [
       "AgeHH2                       909\n",
       "AgeHH1                       909\n",
       "PercChangeMinutes            367\n",
       "PercChangeRevenues           367\n",
       "MonthlyRevenue               156\n",
       "MonthlyMinutes               156\n",
       "TotalRecurringCharge         156\n",
       "DirectorAssistedCalls        156\n",
       "OverageMinutes               156\n",
       "RoamingCalls                 156\n",
       "ServiceArea                   24\n",
       "CurrentEquipmentDays           1\n",
       "Handsets                       1\n",
       "HandsetModels                  1\n",
       "OwnsComputer                   0\n",
       "NonUSTravel                    0\n",
       "BuysViaMailOrder               0\n",
       "OptOutMailings                 0\n",
       "RespondsToMailOffers           0\n",
       "RetentionCalls                 0\n",
       "HasCreditCard                  0\n",
       "IncomeGroup                    0\n",
       "RetentionOffersAccepted        0\n",
       "NewCellphoneUser               0\n",
       "NotNewCellphoneUser            0\n",
       "ReferralsMadeBySubscriber      0\n",
       "RVOwner                        0\n",
       "OwnsMotorcycle                 0\n",
       "AdjustmentsToCreditRating      0\n",
       "HandsetPrice                   0\n",
       "MadeCallToRetentionTeam        0\n",
       "CreditRating                   0\n",
       "PrizmCode                      0\n",
       "Occupation                     0\n",
       "Homeownership                  0\n",
       "CustomerID                     0\n",
       "TruckOwner                     0\n",
       "HandsetWebCapable              0\n",
       "DroppedCalls                   0\n",
       "BlockedCalls                   0\n",
       "UnansweredCalls                0\n",
       "CustomerCareCalls              0\n",
       "ThreewayCalls                  0\n",
       "ReceivedCalls                  0\n",
       "OutboundCalls                  0\n",
       "InboundCalls                   0\n",
       "PeakCallsInOut                 0\n",
       "OffPeakCallsInOut              0\n",
       "DroppedBlockedCalls            0\n",
       "CallForwardingCalls            0\n",
       "CallWaitingCalls               0\n",
       "MonthsInService                0\n",
       "UniqueSubs                     0\n",
       "ActiveSubs                     0\n",
       "Churn                          0\n",
       "ChildrenInHH                   0\n",
       "HandsetRefurbished             0\n",
       "MaritalStatus                  0\n",
       "dtype: int64"
      ]
     },
     "execution_count": 62,
     "metadata": {},
     "output_type": "execute_result"
    }
   ],
   "source": [
    "# 결측치 찾기\n",
    "train.isnull().sum().sort_values(ascending=False)"
   ]
  },
  {
   "attachments": {},
   "cell_type": "markdown",
   "metadata": {},
   "source": [
    "결측치는 다음 기준으로 채운다.\n",
    "- 숫자형 데이터 : 평균\n",
    "- 범주형 데이터 : 최빈값"
   ]
  },
  {
   "cell_type": "code",
   "execution_count": 11,
   "metadata": {},
   "outputs": [],
   "source": [
    "def fill_missing_values(df):\n",
    "    for col in df.columns:\n",
    "        if df[col].dtype == float or df[col].dtype == int:\n",
    "            mean = df[col].mean()\n",
    "            df[col].fillna(mean, inplace=True)\n",
    "        elif df[col].dtype == object:\n",
    "            mode = df[col].mode().iloc[0]\n",
    "            df[col].fillna(mode, inplace=True)\n",
    "        else:\n",
    "            continue\n",
    "        \n",
    "    return df"
   ]
  },
  {
   "cell_type": "code",
   "execution_count": 12,
   "metadata": {},
   "outputs": [],
   "source": [
    "train = fill_missing_values(train)"
   ]
  },
  {
   "attachments": {},
   "cell_type": "markdown",
   "metadata": {},
   "source": [
    "drop 해도 될 것 같은 컬럼 : ServiceArea"
   ]
  },
  {
   "cell_type": "code",
   "execution_count": 13,
   "metadata": {},
   "outputs": [],
   "source": [
    "train = train.drop('ServiceArea', axis=1)\n",
    "test = test.drop('ServiceArea', axis=1)"
   ]
  },
  {
   "attachments": {},
   "cell_type": "markdown",
   "metadata": {},
   "source": [
    "dtype 이 object 인 데이터들을 LabelEncoder 를 사용해서 숫자로 변환."
   ]
  },
  {
   "cell_type": "code",
   "execution_count": 14,
   "metadata": {},
   "outputs": [],
   "source": [
    "from sklearn.preprocessing import LabelEncoder\n",
    "le = LabelEncoder()\n",
    "\n",
    "for col in list(train.columns):\n",
    "    if train.dtypes[col] == object:\n",
    "        train[col] = le.fit_transform(train[col])\n",
    "        \n",
    "for col in list(test.columns):\n",
    "    if test.dtypes[col] == object:\n",
    "        test[col] = le.fit_transform(test[col])"
   ]
  },
  {
   "cell_type": "code",
   "execution_count": 15,
   "metadata": {},
   "outputs": [
    {
     "data": {
      "text/html": [
       "<div>\n",
       "<style scoped>\n",
       "    .dataframe tbody tr th:only-of-type {\n",
       "        vertical-align: middle;\n",
       "    }\n",
       "\n",
       "    .dataframe tbody tr th {\n",
       "        vertical-align: top;\n",
       "    }\n",
       "\n",
       "    .dataframe thead th {\n",
       "        text-align: right;\n",
       "    }\n",
       "</style>\n",
       "<table border=\"1\" class=\"dataframe\">\n",
       "  <thead>\n",
       "    <tr style=\"text-align: right;\">\n",
       "      <th></th>\n",
       "      <th>CustomerID</th>\n",
       "      <th>Churn</th>\n",
       "      <th>MonthlyRevenue</th>\n",
       "      <th>MonthlyMinutes</th>\n",
       "      <th>TotalRecurringCharge</th>\n",
       "      <th>DirectorAssistedCalls</th>\n",
       "      <th>OverageMinutes</th>\n",
       "      <th>RoamingCalls</th>\n",
       "      <th>PercChangeMinutes</th>\n",
       "      <th>PercChangeRevenues</th>\n",
       "      <th>...</th>\n",
       "      <th>ReferralsMadeBySubscriber</th>\n",
       "      <th>IncomeGroup</th>\n",
       "      <th>OwnsMotorcycle</th>\n",
       "      <th>AdjustmentsToCreditRating</th>\n",
       "      <th>HandsetPrice</th>\n",
       "      <th>MadeCallToRetentionTeam</th>\n",
       "      <th>CreditRating</th>\n",
       "      <th>PrizmCode</th>\n",
       "      <th>Occupation</th>\n",
       "      <th>MaritalStatus</th>\n",
       "    </tr>\n",
       "  </thead>\n",
       "  <tbody>\n",
       "    <tr>\n",
       "      <th>0</th>\n",
       "      <td>3000002</td>\n",
       "      <td>1</td>\n",
       "      <td>24.00</td>\n",
       "      <td>219.0</td>\n",
       "      <td>22.0</td>\n",
       "      <td>0.25</td>\n",
       "      <td>0.0</td>\n",
       "      <td>0.0</td>\n",
       "      <td>-157.0</td>\n",
       "      <td>-19.0</td>\n",
       "      <td>...</td>\n",
       "      <td>0</td>\n",
       "      <td>4</td>\n",
       "      <td>0</td>\n",
       "      <td>0</td>\n",
       "      <td>8</td>\n",
       "      <td>1</td>\n",
       "      <td>0</td>\n",
       "      <td>2</td>\n",
       "      <td>4</td>\n",
       "      <td>0</td>\n",
       "    </tr>\n",
       "    <tr>\n",
       "      <th>1</th>\n",
       "      <td>3000010</td>\n",
       "      <td>1</td>\n",
       "      <td>16.99</td>\n",
       "      <td>10.0</td>\n",
       "      <td>17.0</td>\n",
       "      <td>0.00</td>\n",
       "      <td>0.0</td>\n",
       "      <td>0.0</td>\n",
       "      <td>-4.0</td>\n",
       "      <td>0.0</td>\n",
       "      <td>...</td>\n",
       "      <td>0</td>\n",
       "      <td>5</td>\n",
       "      <td>0</td>\n",
       "      <td>0</td>\n",
       "      <td>8</td>\n",
       "      <td>0</td>\n",
       "      <td>3</td>\n",
       "      <td>2</td>\n",
       "      <td>4</td>\n",
       "      <td>2</td>\n",
       "    </tr>\n",
       "    <tr>\n",
       "      <th>2</th>\n",
       "      <td>3000014</td>\n",
       "      <td>0</td>\n",
       "      <td>38.00</td>\n",
       "      <td>8.0</td>\n",
       "      <td>38.0</td>\n",
       "      <td>0.00</td>\n",
       "      <td>0.0</td>\n",
       "      <td>0.0</td>\n",
       "      <td>-2.0</td>\n",
       "      <td>0.0</td>\n",
       "      <td>...</td>\n",
       "      <td>0</td>\n",
       "      <td>6</td>\n",
       "      <td>0</td>\n",
       "      <td>0</td>\n",
       "      <td>15</td>\n",
       "      <td>0</td>\n",
       "      <td>2</td>\n",
       "      <td>3</td>\n",
       "      <td>1</td>\n",
       "      <td>2</td>\n",
       "    </tr>\n",
       "  </tbody>\n",
       "</table>\n",
       "<p>3 rows × 57 columns</p>\n",
       "</div>"
      ],
      "text/plain": [
       "   CustomerID  Churn  MonthlyRevenue  MonthlyMinutes  TotalRecurringCharge   \n",
       "0     3000002      1           24.00           219.0                  22.0  \\\n",
       "1     3000010      1           16.99            10.0                  17.0   \n",
       "2     3000014      0           38.00             8.0                  38.0   \n",
       "\n",
       "   DirectorAssistedCalls  OverageMinutes  RoamingCalls  PercChangeMinutes   \n",
       "0                   0.25             0.0           0.0             -157.0  \\\n",
       "1                   0.00             0.0           0.0               -4.0   \n",
       "2                   0.00             0.0           0.0               -2.0   \n",
       "\n",
       "   PercChangeRevenues  ...  ReferralsMadeBySubscriber  IncomeGroup   \n",
       "0               -19.0  ...                          0            4  \\\n",
       "1                 0.0  ...                          0            5   \n",
       "2                 0.0  ...                          0            6   \n",
       "\n",
       "   OwnsMotorcycle  AdjustmentsToCreditRating  HandsetPrice   \n",
       "0               0                          0             8  \\\n",
       "1               0                          0             8   \n",
       "2               0                          0            15   \n",
       "\n",
       "   MadeCallToRetentionTeam  CreditRating  PrizmCode  Occupation  MaritalStatus  \n",
       "0                        1             0          2           4              0  \n",
       "1                        0             3          2           4              2  \n",
       "2                        0             2          3           1              2  \n",
       "\n",
       "[3 rows x 57 columns]"
      ]
     },
     "execution_count": 15,
     "metadata": {},
     "output_type": "execute_result"
    }
   ],
   "source": [
    "train.head(3)"
   ]
  },
  {
   "cell_type": "code",
   "execution_count": 16,
   "metadata": {},
   "outputs": [
    {
     "data": {
      "text/plain": [
       "CustomerID            0\n",
       "AgeHH1                0\n",
       "ChildrenInHH          0\n",
       "HandsetRefurbished    0\n",
       "HandsetWebCapable     0\n",
       "dtype: int64"
      ]
     },
     "execution_count": 16,
     "metadata": {},
     "output_type": "execute_result"
    }
   ],
   "source": [
    "train.isnull().sum().sort_values(ascending=False)[:5]"
   ]
  },
  {
   "attachments": {},
   "cell_type": "markdown",
   "metadata": {},
   "source": [
    "훈련 데이터 셋의 Churn 의 Yes(1) / No(0) 비율은\n",
    "- No 71.2%, Yes 28.8"
   ]
  },
  {
   "cell_type": "code",
   "execution_count": 17,
   "metadata": {},
   "outputs": [
    {
     "data": {
      "text/html": [
       "<div>\n",
       "<style scoped>\n",
       "    .dataframe tbody tr th:only-of-type {\n",
       "        vertical-align: middle;\n",
       "    }\n",
       "\n",
       "    .dataframe tbody tr th {\n",
       "        vertical-align: top;\n",
       "    }\n",
       "\n",
       "    .dataframe thead th {\n",
       "        text-align: right;\n",
       "    }\n",
       "</style>\n",
       "<table border=\"1\" class=\"dataframe\">\n",
       "  <thead>\n",
       "    <tr style=\"text-align: right;\">\n",
       "      <th></th>\n",
       "      <th>Churn</th>\n",
       "      <th>Count</th>\n",
       "      <th>Percentage</th>\n",
       "    </tr>\n",
       "  </thead>\n",
       "  <tbody>\n",
       "    <tr>\n",
       "      <th>0</th>\n",
       "      <td>0</td>\n",
       "      <td>36336</td>\n",
       "      <td>71.2</td>\n",
       "    </tr>\n",
       "    <tr>\n",
       "      <th>1</th>\n",
       "      <td>1</td>\n",
       "      <td>14711</td>\n",
       "      <td>28.8</td>\n",
       "    </tr>\n",
       "  </tbody>\n",
       "</table>\n",
       "</div>"
      ],
      "text/plain": [
       "   Churn  Count  Percentage\n",
       "0      0  36336        71.2\n",
       "1      1  14711        28.8"
      ]
     },
     "execution_count": 17,
     "metadata": {},
     "output_type": "execute_result"
    }
   ],
   "source": [
    "churn = train['Churn'].value_counts()\n",
    "churn_pct = np.round(churn.div(churn.sum()) * 100, 1)\n",
    "churn_df = pd.merge(churn, churn_pct, on=churn.index)\n",
    "churn_df.rename(columns={\n",
    "                    'key_0': 'Churn',\n",
    "                    'count_x': 'Count',\n",
    "                    'count_y': 'Percentage'},\n",
    "                inplace=True)\n",
    "churn_df"
   ]
  },
  {
   "cell_type": "code",
   "execution_count": 18,
   "metadata": {},
   "outputs": [
    {
     "data": {
      "image/png": "[encoded data removed]",
      "text/plain": [
       "<Figure size 600x500 with 1 Axes>"
      ]
     },
     "metadata": {},
     "output_type": "display_data"
    }
   ],
   "source": [
    "plt.figure(figsize=(6,5))\n",
    "sns.countplot(data=train, x=train['Churn'])\n",
    "plt.title('0: 미이탈, 1: 이탈')\n",
    "plt.show()"
   ]
  },
  {
   "cell_type": "code",
   "execution_count": 19,
   "metadata": {},
   "outputs": [
    {
     "data": {
      "text/plain": [
       "(51047, 57)"
      ]
     },
     "execution_count": 19,
     "metadata": {},
     "output_type": "execute_result"
    }
   ],
   "source": [
    "train.shape"
   ]
  },
  {
   "cell_type": "code",
   "execution_count": 20,
   "metadata": {},
   "outputs": [
    {
     "data": {
      "image/png": "[encoded data removed]",
      "text/plain": [
       "<Figure size 1200x1500 with 2 Axes>"
      ]
     },
     "metadata": {},
     "output_type": "display_data"
    }
   ],
   "source": [
    "corr = train.corr()\n",
    "\n",
    "plt.figure(figsize=(12,12))\n",
    "sns.heatmap(data=corr, cmap='YlGnBu');"
   ]
  },
  {
   "cell_type": "code",
   "execution_count": 21,
   "metadata": {},
   "outputs": [
    {
     "data": {
      "text/html": [
       "<div>\n",
       "<style scoped>\n",
       "    .dataframe tbody tr th:only-of-type {\n",
       "        vertical-align: middle;\n",
       "    }\n",
       "\n",
       "    .dataframe tbody tr th {\n",
       "        vertical-align: top;\n",
       "    }\n",
       "\n",
       "    .dataframe thead th {\n",
       "        text-align: right;\n",
       "    }\n",
       "</style>\n",
       "<table border=\"1\" class=\"dataframe\">\n",
       "  <thead>\n",
       "    <tr style=\"text-align: right;\">\n",
       "      <th></th>\n",
       "      <th>CustomerID</th>\n",
       "      <th>Churn</th>\n",
       "      <th>MonthlyRevenue</th>\n",
       "      <th>MonthlyMinutes</th>\n",
       "      <th>TotalRecurringCharge</th>\n",
       "      <th>DirectorAssistedCalls</th>\n",
       "      <th>OverageMinutes</th>\n",
       "      <th>RoamingCalls</th>\n",
       "      <th>PercChangeMinutes</th>\n",
       "      <th>PercChangeRevenues</th>\n",
       "      <th>...</th>\n",
       "      <th>ReferralsMadeBySubscriber</th>\n",
       "      <th>IncomeGroup</th>\n",
       "      <th>OwnsMotorcycle</th>\n",
       "      <th>AdjustmentsToCreditRating</th>\n",
       "      <th>HandsetPrice</th>\n",
       "      <th>MadeCallToRetentionTeam</th>\n",
       "      <th>CreditRating</th>\n",
       "      <th>PrizmCode</th>\n",
       "      <th>Occupation</th>\n",
       "      <th>MaritalStatus</th>\n",
       "    </tr>\n",
       "  </thead>\n",
       "  <tbody>\n",
       "    <tr>\n",
       "      <th>Churn</th>\n",
       "      <td>-0.041558</td>\n",
       "      <td>1.000000</td>\n",
       "      <td>-0.011962</td>\n",
       "      <td>-0.050064</td>\n",
       "      <td>-0.061171</td>\n",
       "      <td>-0.019477</td>\n",
       "      <td>0.016427</td>\n",
       "      <td>0.010860</td>\n",
       "      <td>-0.034008</td>\n",
       "      <td>0.011054</td>\n",
       "      <td>...</td>\n",
       "      <td>-0.010686</td>\n",
       "      <td>-0.012709</td>\n",
       "      <td>0.007295</td>\n",
       "      <td>-0.017056</td>\n",
       "      <td>0.031498</td>\n",
       "      <td>0.067393</td>\n",
       "      <td>-0.044750</td>\n",
       "      <td>0.004242</td>\n",
       "      <td>-0.005090</td>\n",
       "      <td>0.009258</td>\n",
       "    </tr>\n",
       "    <tr>\n",
       "      <th>CurrentEquipmentDays</th>\n",
       "      <td>-0.401355</td>\n",
       "      <td>0.103687</td>\n",
       "      <td>-0.216735</td>\n",
       "      <td>-0.309303</td>\n",
       "      <td>-0.247775</td>\n",
       "      <td>-0.120792</td>\n",
       "      <td>-0.123215</td>\n",
       "      <td>-0.028678</td>\n",
       "      <td>-0.006299</td>\n",
       "      <td>0.005681</td>\n",
       "      <td>...</td>\n",
       "      <td>-0.028883</td>\n",
       "      <td>0.137724</td>\n",
       "      <td>0.015219</td>\n",
       "      <td>0.039337</td>\n",
       "      <td>0.394857</td>\n",
       "      <td>-0.023685</td>\n",
       "      <td>-0.234665</td>\n",
       "      <td>0.067450</td>\n",
       "      <td>0.043130</td>\n",
       "      <td>0.078568</td>\n",
       "    </tr>\n",
       "    <tr>\n",
       "      <th>MadeCallToRetentionTeam</th>\n",
       "      <td>-0.061030</td>\n",
       "      <td>0.067393</td>\n",
       "      <td>0.011546</td>\n",
       "      <td>0.007932</td>\n",
       "      <td>-0.023474</td>\n",
       "      <td>0.010018</td>\n",
       "      <td>0.014792</td>\n",
       "      <td>-0.001852</td>\n",
       "      <td>-0.023715</td>\n",
       "      <td>-0.020555</td>\n",
       "      <td>...</td>\n",
       "      <td>0.006708</td>\n",
       "      <td>-0.017909</td>\n",
       "      <td>0.000742</td>\n",
       "      <td>0.022209</td>\n",
       "      <td>-0.071627</td>\n",
       "      <td>1.000000</td>\n",
       "      <td>0.009958</td>\n",
       "      <td>-0.016234</td>\n",
       "      <td>-0.007761</td>\n",
       "      <td>-0.018722</td>\n",
       "    </tr>\n",
       "    <tr>\n",
       "      <th>RetentionCalls</th>\n",
       "      <td>-0.060742</td>\n",
       "      <td>0.065301</td>\n",
       "      <td>0.011347</td>\n",
       "      <td>0.009824</td>\n",
       "      <td>-0.021961</td>\n",
       "      <td>0.008731</td>\n",
       "      <td>0.015150</td>\n",
       "      <td>-0.001957</td>\n",
       "      <td>-0.021465</td>\n",
       "      <td>-0.019304</td>\n",
       "      <td>...</td>\n",
       "      <td>0.006206</td>\n",
       "      <td>-0.017875</td>\n",
       "      <td>-0.001043</td>\n",
       "      <td>0.025907</td>\n",
       "      <td>-0.073175</td>\n",
       "      <td>0.957656</td>\n",
       "      <td>0.008787</td>\n",
       "      <td>-0.015321</td>\n",
       "      <td>-0.008861</td>\n",
       "      <td>-0.020144</td>\n",
       "    </tr>\n",
       "    <tr>\n",
       "      <th>RetentionOffersAccepted</th>\n",
       "      <td>-0.046293</td>\n",
       "      <td>0.034953</td>\n",
       "      <td>0.015473</td>\n",
       "      <td>0.014965</td>\n",
       "      <td>-0.002283</td>\n",
       "      <td>0.013399</td>\n",
       "      <td>0.009394</td>\n",
       "      <td>-0.000779</td>\n",
       "      <td>-0.008221</td>\n",
       "      <td>-0.012174</td>\n",
       "      <td>...</td>\n",
       "      <td>0.007340</td>\n",
       "      <td>-0.006782</td>\n",
       "      <td>-0.002893</td>\n",
       "      <td>0.023940</td>\n",
       "      <td>-0.070286</td>\n",
       "      <td>0.681965</td>\n",
       "      <td>0.002906</td>\n",
       "      <td>-0.006453</td>\n",
       "      <td>-0.004129</td>\n",
       "      <td>-0.012394</td>\n",
       "    </tr>\n",
       "    <tr>\n",
       "      <th>UniqueSubs</th>\n",
       "      <td>-0.024854</td>\n",
       "      <td>0.034522</td>\n",
       "      <td>-0.014232</td>\n",
       "      <td>-0.029706</td>\n",
       "      <td>-0.020635</td>\n",
       "      <td>-0.002600</td>\n",
       "      <td>-0.002750</td>\n",
       "      <td>-0.003818</td>\n",
       "      <td>0.001788</td>\n",
       "      <td>0.002517</td>\n",
       "      <td>...</td>\n",
       "      <td>-0.023087</td>\n",
       "      <td>0.048088</td>\n",
       "      <td>0.009318</td>\n",
       "      <td>-0.002110</td>\n",
       "      <td>-0.018749</td>\n",
       "      <td>-0.009572</td>\n",
       "      <td>-0.136090</td>\n",
       "      <td>0.037409</td>\n",
       "      <td>0.021467</td>\n",
       "      <td>0.054120</td>\n",
       "    </tr>\n",
       "    <tr>\n",
       "      <th>HandsetPrice</th>\n",
       "      <td>0.178841</td>\n",
       "      <td>0.031498</td>\n",
       "      <td>-0.185204</td>\n",
       "      <td>-0.232470</td>\n",
       "      <td>-0.162942</td>\n",
       "      <td>-0.111023</td>\n",
       "      <td>-0.108023</td>\n",
       "      <td>-0.017579</td>\n",
       "      <td>-0.006441</td>\n",
       "      <td>0.011986</td>\n",
       "      <td>...</td>\n",
       "      <td>-0.027083</td>\n",
       "      <td>0.037691</td>\n",
       "      <td>-0.004287</td>\n",
       "      <td>-0.085443</td>\n",
       "      <td>1.000000</td>\n",
       "      <td>-0.071627</td>\n",
       "      <td>-0.071446</td>\n",
       "      <td>0.052276</td>\n",
       "      <td>0.014743</td>\n",
       "      <td>0.052535</td>\n",
       "    </tr>\n",
       "    <tr>\n",
       "      <th>HandsetRefurbished</th>\n",
       "      <td>-0.062659</td>\n",
       "      <td>0.029949</td>\n",
       "      <td>0.043757</td>\n",
       "      <td>0.069263</td>\n",
       "      <td>0.028638</td>\n",
       "      <td>0.029388</td>\n",
       "      <td>0.027652</td>\n",
       "      <td>0.000361</td>\n",
       "      <td>-0.005888</td>\n",
       "      <td>-0.004635</td>\n",
       "      <td>...</td>\n",
       "      <td>0.017637</td>\n",
       "      <td>-0.017674</td>\n",
       "      <td>0.001819</td>\n",
       "      <td>0.034404</td>\n",
       "      <td>-0.304394</td>\n",
       "      <td>0.075625</td>\n",
       "      <td>0.026062</td>\n",
       "      <td>-0.021388</td>\n",
       "      <td>-0.006383</td>\n",
       "      <td>-0.011492</td>\n",
       "    </tr>\n",
       "    <tr>\n",
       "      <th>MonthsInService</th>\n",
       "      <td>-0.752283</td>\n",
       "      <td>0.018703</td>\n",
       "      <td>-0.001354</td>\n",
       "      <td>-0.067286</td>\n",
       "      <td>-0.047641</td>\n",
       "      <td>0.019045</td>\n",
       "      <td>0.002801</td>\n",
       "      <td>-0.010352</td>\n",
       "      <td>0.003922</td>\n",
       "      <td>-0.007052</td>\n",
       "      <td>...</td>\n",
       "      <td>-0.016852</td>\n",
       "      <td>0.139341</td>\n",
       "      <td>0.016690</td>\n",
       "      <td>0.222697</td>\n",
       "      <td>-0.226958</td>\n",
       "      <td>0.068310</td>\n",
       "      <td>-0.240840</td>\n",
       "      <td>0.019681</td>\n",
       "      <td>0.036708</td>\n",
       "      <td>0.032623</td>\n",
       "    </tr>\n",
       "    <tr>\n",
       "      <th>OverageMinutes</th>\n",
       "      <td>0.005516</td>\n",
       "      <td>0.016427</td>\n",
       "      <td>0.787834</td>\n",
       "      <td>0.571437</td>\n",
       "      <td>0.202908</td>\n",
       "      <td>0.287128</td>\n",
       "      <td>1.000000</td>\n",
       "      <td>0.063954</td>\n",
       "      <td>-0.028384</td>\n",
       "      <td>-0.018610</td>\n",
       "      <td>...</td>\n",
       "      <td>0.009933</td>\n",
       "      <td>-0.049966</td>\n",
       "      <td>-0.008372</td>\n",
       "      <td>0.020696</td>\n",
       "      <td>-0.108023</td>\n",
       "      <td>0.014792</td>\n",
       "      <td>0.081145</td>\n",
       "      <td>-0.031110</td>\n",
       "      <td>-0.025316</td>\n",
       "      <td>-0.047821</td>\n",
       "    </tr>\n",
       "    <tr>\n",
       "      <th>ActiveSubs</th>\n",
       "      <td>-0.041581</td>\n",
       "      <td>0.015515</td>\n",
       "      <td>-0.041467</td>\n",
       "      <td>-0.065621</td>\n",
       "      <td>-0.056662</td>\n",
       "      <td>-0.014604</td>\n",
       "      <td>-0.012260</td>\n",
       "      <td>-0.003099</td>\n",
       "      <td>0.008494</td>\n",
       "      <td>0.005111</td>\n",
       "      <td>...</td>\n",
       "      <td>-0.031382</td>\n",
       "      <td>0.105815</td>\n",
       "      <td>0.015544</td>\n",
       "      <td>-0.004098</td>\n",
       "      <td>-0.006750</td>\n",
       "      <td>-0.035326</td>\n",
       "      <td>-0.189110</td>\n",
       "      <td>0.059041</td>\n",
       "      <td>0.035194</td>\n",
       "      <td>0.099850</td>\n",
       "    </tr>\n",
       "    <tr>\n",
       "      <th>Homeownership</th>\n",
       "      <td>0.128775</td>\n",
       "      <td>0.013163</td>\n",
       "      <td>0.086188</td>\n",
       "      <td>0.137138</td>\n",
       "      <td>0.084957</td>\n",
       "      <td>0.043587</td>\n",
       "      <td>0.048946</td>\n",
       "      <td>0.017154</td>\n",
       "      <td>-0.011029</td>\n",
       "      <td>-0.003415</td>\n",
       "      <td>...</td>\n",
       "      <td>0.010895</td>\n",
       "      <td>-0.723345</td>\n",
       "      <td>-0.071748</td>\n",
       "      <td>-0.010809</td>\n",
       "      <td>-0.029048</td>\n",
       "      <td>0.009786</td>\n",
       "      <td>0.248501</td>\n",
       "      <td>-0.172445</td>\n",
       "      <td>-0.127848</td>\n",
       "      <td>-0.203555</td>\n",
       "    </tr>\n",
       "    <tr>\n",
       "      <th>PercChangeRevenues</th>\n",
       "      <td>0.005193</td>\n",
       "      <td>0.011054</td>\n",
       "      <td>-0.016514</td>\n",
       "      <td>-0.040653</td>\n",
       "      <td>-0.025419</td>\n",
       "      <td>-0.016002</td>\n",
       "      <td>-0.018610</td>\n",
       "      <td>-0.090718</td>\n",
       "      <td>0.609517</td>\n",
       "      <td>1.000000</td>\n",
       "      <td>...</td>\n",
       "      <td>-0.001776</td>\n",
       "      <td>0.005719</td>\n",
       "      <td>-0.000300</td>\n",
       "      <td>-0.005542</td>\n",
       "      <td>0.011986</td>\n",
       "      <td>-0.020555</td>\n",
       "      <td>-0.021175</td>\n",
       "      <td>0.000237</td>\n",
       "      <td>0.005595</td>\n",
       "      <td>-0.000867</td>\n",
       "    </tr>\n",
       "    <tr>\n",
       "      <th>RoamingCalls</th>\n",
       "      <td>0.001211</td>\n",
       "      <td>0.010860</td>\n",
       "      <td>0.303581</td>\n",
       "      <td>0.112624</td>\n",
       "      <td>0.073740</td>\n",
       "      <td>0.069990</td>\n",
       "      <td>0.063954</td>\n",
       "      <td>1.000000</td>\n",
       "      <td>-0.053843</td>\n",
       "      <td>-0.090718</td>\n",
       "      <td>...</td>\n",
       "      <td>-0.006892</td>\n",
       "      <td>-0.015214</td>\n",
       "      <td>0.011124</td>\n",
       "      <td>0.004473</td>\n",
       "      <td>-0.017579</td>\n",
       "      <td>-0.001852</td>\n",
       "      <td>0.016137</td>\n",
       "      <td>-0.000792</td>\n",
       "      <td>-0.007116</td>\n",
       "      <td>0.001129</td>\n",
       "    </tr>\n",
       "    <tr>\n",
       "      <th>ChildrenInHH</th>\n",
       "      <td>-0.028065</td>\n",
       "      <td>0.009562</td>\n",
       "      <td>-0.049481</td>\n",
       "      <td>-0.064651</td>\n",
       "      <td>-0.052198</td>\n",
       "      <td>-0.024380</td>\n",
       "      <td>-0.026630</td>\n",
       "      <td>-0.003572</td>\n",
       "      <td>0.004340</td>\n",
       "      <td>0.001762</td>\n",
       "      <td>...</td>\n",
       "      <td>-0.012783</td>\n",
       "      <td>0.322956</td>\n",
       "      <td>0.053273</td>\n",
       "      <td>-0.014412</td>\n",
       "      <td>0.011635</td>\n",
       "      <td>-0.006741</td>\n",
       "      <td>-0.095926</td>\n",
       "      <td>0.140567</td>\n",
       "      <td>0.077272</td>\n",
       "      <td>0.315258</td>\n",
       "    </tr>\n",
       "  </tbody>\n",
       "</table>\n",
       "<p>15 rows × 57 columns</p>\n",
       "</div>"
      ],
      "text/plain": [
       "                         CustomerID     Churn  MonthlyRevenue  MonthlyMinutes   \n",
       "Churn                     -0.041558  1.000000       -0.011962       -0.050064  \\\n",
       "CurrentEquipmentDays      -0.401355  0.103687       -0.216735       -0.309303   \n",
       "MadeCallToRetentionTeam   -0.061030  0.067393        0.011546        0.007932   \n",
       "RetentionCalls            -0.060742  0.065301        0.011347        0.009824   \n",
       "RetentionOffersAccepted   -0.046293  0.034953        0.015473        0.014965   \n",
       "UniqueSubs                -0.024854  0.034522       -0.014232       -0.029706   \n",
       "HandsetPrice               0.178841  0.031498       -0.185204       -0.232470   \n",
       "HandsetRefurbished        -0.062659  0.029949        0.043757        0.069263   \n",
       "MonthsInService           -0.752283  0.018703       -0.001354       -0.067286   \n",
       "OverageMinutes             0.005516  0.016427        0.787834        0.571437   \n",
       "ActiveSubs                -0.041581  0.015515       -0.041467       -0.065621   \n",
       "Homeownership              0.128775  0.013163        0.086188        0.137138   \n",
       "PercChangeRevenues         0.005193  0.011054       -0.016514       -0.040653   \n",
       "RoamingCalls               0.001211  0.010860        0.303581        0.112624   \n",
       "ChildrenInHH              -0.028065  0.009562       -0.049481       -0.064651   \n",
       "\n",
       "                         TotalRecurringCharge  DirectorAssistedCalls   \n",
       "Churn                               -0.061171              -0.019477  \\\n",
       "CurrentEquipmentDays                -0.247775              -0.120792   \n",
       "MadeCallToRetentionTeam             -0.023474               0.010018   \n",
       "RetentionCalls                      -0.021961               0.008731   \n",
       "RetentionOffersAccepted             -0.002283               0.013399   \n",
       "UniqueSubs                          -0.020635              -0.002600   \n",
       "HandsetPrice                        -0.162942              -0.111023   \n",
       "HandsetRefurbished                   0.028638               0.029388   \n",
       "MonthsInService                     -0.047641               0.019045   \n",
       "OverageMinutes                       0.202908               0.287128   \n",
       "ActiveSubs                          -0.056662              -0.014604   \n",
       "Homeownership                        0.084957               0.043587   \n",
       "PercChangeRevenues                  -0.025419              -0.016002   \n",
       "RoamingCalls                         0.073740               0.069990   \n",
       "ChildrenInHH                        -0.052198              -0.024380   \n",
       "\n",
       "                         OverageMinutes  RoamingCalls  PercChangeMinutes   \n",
       "Churn                          0.016427      0.010860          -0.034008  \\\n",
       "CurrentEquipmentDays          -0.123215     -0.028678          -0.006299   \n",
       "MadeCallToRetentionTeam        0.014792     -0.001852          -0.023715   \n",
       "RetentionCalls                 0.015150     -0.001957          -0.021465   \n",
       "RetentionOffersAccepted        0.009394     -0.000779          -0.008221   \n",
       "UniqueSubs                    -0.002750     -0.003818           0.001788   \n",
       "HandsetPrice                  -0.108023     -0.017579          -0.006441   \n",
       "HandsetRefurbished             0.027652      0.000361          -0.005888   \n",
       "MonthsInService                0.002801     -0.010352           0.003922   \n",
       "OverageMinutes                 1.000000      0.063954          -0.028384   \n",
       "ActiveSubs                    -0.012260     -0.003099           0.008494   \n",
       "Homeownership                  0.048946      0.017154          -0.011029   \n",
       "PercChangeRevenues            -0.018610     -0.090718           0.609517   \n",
       "RoamingCalls                   0.063954      1.000000          -0.053843   \n",
       "ChildrenInHH                  -0.026630     -0.003572           0.004340   \n",
       "\n",
       "                         PercChangeRevenues  ...  ReferralsMadeBySubscriber   \n",
       "Churn                              0.011054  ...                  -0.010686  \\\n",
       "CurrentEquipmentDays               0.005681  ...                  -0.028883   \n",
       "MadeCallToRetentionTeam           -0.020555  ...                   0.006708   \n",
       "RetentionCalls                    -0.019304  ...                   0.006206   \n",
       "RetentionOffersAccepted           -0.012174  ...                   0.007340   \n",
       "UniqueSubs                         0.002517  ...                  -0.023087   \n",
       "HandsetPrice                       0.011986  ...                  -0.027083   \n",
       "HandsetRefurbished                -0.004635  ...                   0.017637   \n",
       "MonthsInService                   -0.007052  ...                  -0.016852   \n",
       "OverageMinutes                    -0.018610  ...                   0.009933   \n",
       "ActiveSubs                         0.005111  ...                  -0.031382   \n",
       "Homeownership                     -0.003415  ...                   0.010895   \n",
       "PercChangeRevenues                 1.000000  ...                  -0.001776   \n",
       "RoamingCalls                      -0.090718  ...                  -0.006892   \n",
       "ChildrenInHH                       0.001762  ...                  -0.012783   \n",
       "\n",
       "                         IncomeGroup  OwnsMotorcycle   \n",
       "Churn                      -0.012709        0.007295  \\\n",
       "CurrentEquipmentDays        0.137724        0.015219   \n",
       "MadeCallToRetentionTeam    -0.017909        0.000742   \n",
       "RetentionCalls             -0.017875       -0.001043   \n",
       "RetentionOffersAccepted    -0.006782       -0.002893   \n",
       "UniqueSubs                  0.048088        0.009318   \n",
       "HandsetPrice                0.037691       -0.004287   \n",
       "HandsetRefurbished         -0.017674        0.001819   \n",
       "MonthsInService             0.139341        0.016690   \n",
       "OverageMinutes             -0.049966       -0.008372   \n",
       "ActiveSubs                  0.105815        0.015544   \n",
       "Homeownership              -0.723345       -0.071748   \n",
       "PercChangeRevenues          0.005719       -0.000300   \n",
       "RoamingCalls               -0.015214        0.011124   \n",
       "ChildrenInHH                0.322956        0.053273   \n",
       "\n",
       "                         AdjustmentsToCreditRating  HandsetPrice   \n",
       "Churn                                    -0.017056      0.031498  \\\n",
       "CurrentEquipmentDays                      0.039337      0.394857   \n",
       "MadeCallToRetentionTeam                   0.022209     -0.071627   \n",
       "RetentionCalls                            0.025907     -0.073175   \n",
       "RetentionOffersAccepted                   0.023940     -0.070286   \n",
       "UniqueSubs                               -0.002110     -0.018749   \n",
       "HandsetPrice                             -0.085443      1.000000   \n",
       "HandsetRefurbished                        0.034404     -0.304394   \n",
       "MonthsInService                           0.222697     -0.226958   \n",
       "OverageMinutes                            0.020696     -0.108023   \n",
       "ActiveSubs                               -0.004098     -0.006750   \n",
       "Homeownership                            -0.010809     -0.029048   \n",
       "PercChangeRevenues                       -0.005542      0.011986   \n",
       "RoamingCalls                              0.004473     -0.017579   \n",
       "ChildrenInHH                             -0.014412      0.011635   \n",
       "\n",
       "                         MadeCallToRetentionTeam  CreditRating  PrizmCode   \n",
       "Churn                                   0.067393     -0.044750   0.004242  \\\n",
       "CurrentEquipmentDays                   -0.023685     -0.234665   0.067450   \n",
       "MadeCallToRetentionTeam                 1.000000      0.009958  -0.016234   \n",
       "RetentionCalls                          0.957656      0.008787  -0.015321   \n",
       "RetentionOffersAccepted                 0.681965      0.002906  -0.006453   \n",
       "UniqueSubs                             -0.009572     -0.136090   0.037409   \n",
       "HandsetPrice                           -0.071627     -0.071446   0.052276   \n",
       "HandsetRefurbished                      0.075625      0.026062  -0.021388   \n",
       "MonthsInService                         0.068310     -0.240840   0.019681   \n",
       "OverageMinutes                          0.014792      0.081145  -0.031110   \n",
       "ActiveSubs                             -0.035326     -0.189110   0.059041   \n",
       "Homeownership                           0.009786      0.248501  -0.172445   \n",
       "PercChangeRevenues                     -0.020555     -0.021175   0.000237   \n",
       "RoamingCalls                           -0.001852      0.016137  -0.000792   \n",
       "ChildrenInHH                           -0.006741     -0.095926   0.140567   \n",
       "\n",
       "                         Occupation  MaritalStatus  \n",
       "Churn                     -0.005090       0.009258  \n",
       "CurrentEquipmentDays       0.043130       0.078568  \n",
       "MadeCallToRetentionTeam   -0.007761      -0.018722  \n",
       "RetentionCalls            -0.008861      -0.020144  \n",
       "RetentionOffersAccepted   -0.004129      -0.012394  \n",
       "UniqueSubs                 0.021467       0.054120  \n",
       "HandsetPrice               0.014743       0.052535  \n",
       "HandsetRefurbished        -0.006383      -0.011492  \n",
       "MonthsInService            0.036708       0.032623  \n",
       "OverageMinutes            -0.025316      -0.047821  \n",
       "ActiveSubs                 0.035194       0.099850  \n",
       "Homeownership             -0.127848      -0.203555  \n",
       "PercChangeRevenues         0.005595      -0.000867  \n",
       "RoamingCalls              -0.007116       0.001129  \n",
       "ChildrenInHH               0.077272       0.315258  \n",
       "\n",
       "[15 rows x 57 columns]"
      ]
     },
     "execution_count": 21,
     "metadata": {},
     "output_type": "execute_result"
    }
   ],
   "source": [
    "corr.sort_values(by='Churn', ascending=False)[:15]"
   ]
  },
  {
   "attachments": {},
   "cell_type": "markdown",
   "metadata": {},
   "source": [
    "데이터셋을 2가지로 나누어서 진행\n",
    "- case1. 전체 features 포함\n",
    "- case2. 위 15개 features 만 포함"
   ]
  },
  {
   "attachments": {},
   "cell_type": "markdown",
   "metadata": {},
   "source": [
    "---"
   ]
  },
  {
   "attachments": {},
   "cell_type": "markdown",
   "metadata": {},
   "source": [
    "## 2. 모델링 진행\n",
    "- Decision Tree\n",
    "- Random Forest\n",
    "- LightGBM"
   ]
  },
  {
   "attachments": {},
   "cell_type": "markdown",
   "metadata": {},
   "source": [
    "### 2.1. case1"
   ]
  },
  {
   "attachments": {},
   "cell_type": "markdown",
   "metadata": {},
   "source": [
    "#### train_test_split"
   ]
  },
  {
   "cell_type": "code",
   "execution_count": 22,
   "metadata": {},
   "outputs": [],
   "source": [
    "from sklearn.model_selection import train_test_split\n",
    "\n",
    "X = train.drop(['Churn'], axis=1)\n",
    "y = train['Churn']\n",
    "\n",
    "X_train, X_test, y_train, y_test = train_test_split(X, y, test_size=0.3, random_state=13)"
   ]
  },
  {
   "cell_type": "code",
   "execution_count": 23,
   "metadata": {},
   "outputs": [
    {
     "data": {
      "text/plain": [
       "((35732, 56), (15315, 56), (35732,), (15315,))"
      ]
     },
     "execution_count": 23,
     "metadata": {},
     "output_type": "execute_result"
    }
   ],
   "source": [
    "X_train.shape, X_test.shape, y_train.shape, y_test.shape"
   ]
  },
  {
   "attachments": {},
   "cell_type": "markdown",
   "metadata": {},
   "source": [
    "#### 2.1.1. Decision Tree"
   ]
  },
  {
   "cell_type": "code",
   "execution_count": 24,
   "metadata": {},
   "outputs": [
    {
     "data": {
      "text/html": [
       "<style>#sk-container-id-1 {color: black;background-color: white;}#sk-container-id-1 pre{padding: 0;}#sk-container-id-1 div.sk-toggleable {background-color: white;}#sk-container-id-1 label.sk-toggleable__label {cursor: pointer;display: block;width: 100%;margin-bottom: 0;padding: 0.3em;box-sizing: border-box;text-align: center;}#sk-container-id-1 label.sk-toggleable__label-arrow:before {content: \"▸\";float: left;margin-right: 0.25em;color: #696969;}#sk-container-id-1 label.sk-toggleable__label-arrow:hover:before {color: black;}#sk-container-id-1 div.sk-estimator:hover label.sk-toggleable__label-arrow:before {color: black;}#sk-container-id-1 div.sk-toggleable__content {max-height: 0;max-width: 0;overflow: hidden;text-align: left;background-color: #f0f8ff;}#sk-container-id-1 div.sk-toggleable__content pre {margin: 0.2em;color: black;border-radius: 0.25em;background-color: #f0f8ff;}#sk-container-id-1 input.sk-toggleable__control:checked~div.sk-toggleable__content {max-height: 200px;max-width: 100%;overflow: auto;}#sk-container-id-1 input.sk-toggleable__control:checked~label.sk-toggleable__label-arrow:before {content: \"▾\";}#sk-container-id-1 div.sk-estimator input.sk-toggleable__control:checked~label.sk-toggleable__label {background-color: #d4ebff;}#sk-container-id-1 div.sk-label input.sk-toggleable__control:checked~label.sk-toggleable__label {background-color: #d4ebff;}#sk-container-id-1 input.sk-hidden--visually {border: 0;clip: rect(1px 1px 1px 1px);clip: rect(1px, 1px, 1px, 1px);height: 1px;margin: -1px;overflow: hidden;padding: 0;position: absolute;width: 1px;}#sk-container-id-1 div.sk-estimator {font-family: monospace;background-color: #f0f8ff;border: 1px dotted black;border-radius: 0.25em;box-sizing: border-box;margin-bottom: 0.5em;}#sk-container-id-1 div.sk-estimator:hover {background-color: #d4ebff;}#sk-container-id-1 div.sk-parallel-item::after {content: \"\";width: 100%;border-bottom: 1px solid gray;flex-grow: 1;}#sk-container-id-1 div.sk-label:hover label.sk-toggleable__label {background-color: #d4ebff;}#sk-container-id-1 div.sk-serial::before {content: \"\";position: absolute;border-left: 1px solid gray;box-sizing: border-box;top: 0;bottom: 0;left: 50%;z-index: 0;}#sk-container-id-1 div.sk-serial {display: flex;flex-direction: column;align-items: center;background-color: white;padding-right: 0.2em;padding-left: 0.2em;position: relative;}#sk-container-id-1 div.sk-item {position: relative;z-index: 1;}#sk-container-id-1 div.sk-parallel {display: flex;align-items: stretch;justify-content: center;background-color: white;position: relative;}#sk-container-id-1 div.sk-item::before, #sk-container-id-1 div.sk-parallel-item::before {content: \"\";position: absolute;border-left: 1px solid gray;box-sizing: border-box;top: 0;bottom: 0;left: 50%;z-index: -1;}#sk-container-id-1 div.sk-parallel-item {display: flex;flex-direction: column;z-index: 1;position: relative;background-color: white;}#sk-container-id-1 div.sk-parallel-item:first-child::after {align-self: flex-end;width: 50%;}#sk-container-id-1 div.sk-parallel-item:last-child::after {align-self: flex-start;width: 50%;}#sk-container-id-1 div.sk-parallel-item:only-child::after {width: 0;}#sk-container-id-1 div.sk-dashed-wrapped {border: 1px dashed gray;margin: 0 0.4em 0.5em 0.4em;box-sizing: border-box;padding-bottom: 0.4em;background-color: white;}#sk-container-id-1 div.sk-label label {font-family: monospace;font-weight: bold;display: inline-block;line-height: 1.2em;}#sk-container-id-1 div.sk-label-container {text-align: center;}#sk-container-id-1 div.sk-container {/* jupyter's `normalize.less` sets `[hidden] { display: none; }` but bootstrap.min.css set `[hidden] { display: none !important; }` so we also need the `!important` here to be able to override the default hidden behavior on the sphinx rendered scikit-learn.org. See: https://github.com/scikit-learn/scikit-learn/issues/21755 */display: inline-block !important;position: relative;}#sk-container-id-1 div.sk-text-repr-fallback {display: none;}</style><div id=\"sk-container-id-1\" class=\"sk-top-container\"><div class=\"sk-text-repr-fallback\"><pre>DecisionTreeClassifier(max_depth=4, random_state=13)</pre><b>In a Jupyter environment, please rerun this cell to show the HTML representation or trust the notebook. <br />On GitHub, the HTML representation is unable to render, please try loading this page with nbviewer.org.</b></div><div class=\"sk-container\" hidden><div class=\"sk-item\"><div class=\"sk-estimator sk-toggleable\"><input class=\"sk-toggleable__control sk-hidden--visually\" id=\"sk-estimator-id-1\" type=\"checkbox\" checked><label for=\"sk-estimator-id-1\" class=\"sk-toggleable__label sk-toggleable__label-arrow\">DecisionTreeClassifier</label><div class=\"sk-toggleable__content\"><pre>DecisionTreeClassifier(max_depth=4, random_state=13)</pre></div></div></div></div></div>"
      ],
      "text/plain": [
       "DecisionTreeClassifier(max_depth=4, random_state=13)"
      ]
     },
     "execution_count": 24,
     "metadata": {},
     "output_type": "execute_result"
    }
   ],
   "source": [
    "from sklearn.tree import DecisionTreeClassifier\n",
    "from sklearn.metrics import accuracy_score\n",
    "\n",
    "dt_clf = DecisionTreeClassifier(max_depth=4, random_state=13)\n",
    "dt_clf.fit(X_train, y_train)"
   ]
  },
  {
   "cell_type": "code",
   "execution_count": 25,
   "metadata": {},
   "outputs": [
    {
     "data": {
      "text/plain": [
       "0.7179236043095005"
      ]
     },
     "execution_count": 25,
     "metadata": {},
     "output_type": "execute_result"
    }
   ],
   "source": [
    "pred = dt_clf.predict(X_test)\n",
    "accuracy_score(y_test, pred)"
   ]
  },
  {
   "attachments": {},
   "cell_type": "markdown",
   "metadata": {},
   "source": [
    "**max_depth 를 다양하게 적용, 최적값 찾기**"
   ]
  },
  {
   "cell_type": "code",
   "execution_count": 26,
   "metadata": {},
   "outputs": [],
   "source": [
    "from sklearn.model_selection import GridSearchCV\n",
    "\n",
    "params = {\n",
    "    'max_depth': [2, 4, 8, 10, 12, 15, 20, 30]\n",
    "}"
   ]
  },
  {
   "cell_type": "code",
   "execution_count": 27,
   "metadata": {},
   "outputs": [
    {
     "data": {
      "text/html": [
       "<style>#sk-container-id-2 {color: black;background-color: white;}#sk-container-id-2 pre{padding: 0;}#sk-container-id-2 div.sk-toggleable {background-color: white;}#sk-container-id-2 label.sk-toggleable__label {cursor: pointer;display: block;width: 100%;margin-bottom: 0;padding: 0.3em;box-sizing: border-box;text-align: center;}#sk-container-id-2 label.sk-toggleable__label-arrow:before {content: \"▸\";float: left;margin-right: 0.25em;color: #696969;}#sk-container-id-2 label.sk-toggleable__label-arrow:hover:before {color: black;}#sk-container-id-2 div.sk-estimator:hover label.sk-toggleable__label-arrow:before {color: black;}#sk-container-id-2 div.sk-toggleable__content {max-height: 0;max-width: 0;overflow: hidden;text-align: left;background-color: #f0f8ff;}#sk-container-id-2 div.sk-toggleable__content pre {margin: 0.2em;color: black;border-radius: 0.25em;background-color: #f0f8ff;}#sk-container-id-2 input.sk-toggleable__control:checked~div.sk-toggleable__content {max-height: 200px;max-width: 100%;overflow: auto;}#sk-container-id-2 input.sk-toggleable__control:checked~label.sk-toggleable__label-arrow:before {content: \"▾\";}#sk-container-id-2 div.sk-estimator input.sk-toggleable__control:checked~label.sk-toggleable__label {background-color: #d4ebff;}#sk-container-id-2 div.sk-label input.sk-toggleable__control:checked~label.sk-toggleable__label {background-color: #d4ebff;}#sk-container-id-2 input.sk-hidden--visually {border: 0;clip: rect(1px 1px 1px 1px);clip: rect(1px, 1px, 1px, 1px);height: 1px;margin: -1px;overflow: hidden;padding: 0;position: absolute;width: 1px;}#sk-container-id-2 div.sk-estimator {font-family: monospace;background-color: #f0f8ff;border: 1px dotted black;border-radius: 0.25em;box-sizing: border-box;margin-bottom: 0.5em;}#sk-container-id-2 div.sk-estimator:hover {background-color: #d4ebff;}#sk-container-id-2 div.sk-parallel-item::after {content: \"\";width: 100%;border-bottom: 1px solid gray;flex-grow: 1;}#sk-container-id-2 div.sk-label:hover label.sk-toggleable__label {background-color: #d4ebff;}#sk-container-id-2 div.sk-serial::before {content: \"\";position: absolute;border-left: 1px solid gray;box-sizing: border-box;top: 0;bottom: 0;left: 50%;z-index: 0;}#sk-container-id-2 div.sk-serial {display: flex;flex-direction: column;align-items: center;background-color: white;padding-right: 0.2em;padding-left: 0.2em;position: relative;}#sk-container-id-2 div.sk-item {position: relative;z-index: 1;}#sk-container-id-2 div.sk-parallel {display: flex;align-items: stretch;justify-content: center;background-color: white;position: relative;}#sk-container-id-2 div.sk-item::before, #sk-container-id-2 div.sk-parallel-item::before {content: \"\";position: absolute;border-left: 1px solid gray;box-sizing: border-box;top: 0;bottom: 0;left: 50%;z-index: -1;}#sk-container-id-2 div.sk-parallel-item {display: flex;flex-direction: column;z-index: 1;position: relative;background-color: white;}#sk-container-id-2 div.sk-parallel-item:first-child::after {align-self: flex-end;width: 50%;}#sk-container-id-2 div.sk-parallel-item:last-child::after {align-self: flex-start;width: 50%;}#sk-container-id-2 div.sk-parallel-item:only-child::after {width: 0;}#sk-container-id-2 div.sk-dashed-wrapped {border: 1px dashed gray;margin: 0 0.4em 0.5em 0.4em;box-sizing: border-box;padding-bottom: 0.4em;background-color: white;}#sk-container-id-2 div.sk-label label {font-family: monospace;font-weight: bold;display: inline-block;line-height: 1.2em;}#sk-container-id-2 div.sk-label-container {text-align: center;}#sk-container-id-2 div.sk-container {/* jupyter's `normalize.less` sets `[hidden] { display: none; }` but bootstrap.min.css set `[hidden] { display: none !important; }` so we also need the `!important` here to be able to override the default hidden behavior on the sphinx rendered scikit-learn.org. See: https://github.com/scikit-learn/scikit-learn/issues/21755 */display: inline-block !important;position: relative;}#sk-container-id-2 div.sk-text-repr-fallback {display: none;}</style><div id=\"sk-container-id-2\" class=\"sk-top-container\"><div class=\"sk-text-repr-fallback\"><pre>GridSearchCV(estimator=DecisionTreeClassifier(max_depth=4, random_state=13),\n",
       "             param_grid={&#x27;max_depth&#x27;: [2, 4, 8, 10, 12, 15, 20, 30]},\n",
       "             return_train_score=True, scoring=&#x27;accuracy&#x27;)</pre><b>In a Jupyter environment, please rerun this cell to show the HTML representation or trust the notebook. <br />On GitHub, the HTML representation is unable to render, please try loading this page with nbviewer.org.</b></div><div class=\"sk-container\" hidden><div class=\"sk-item sk-dashed-wrapped\"><div class=\"sk-label-container\"><div class=\"sk-label sk-toggleable\"><input class=\"sk-toggleable__control sk-hidden--visually\" id=\"sk-estimator-id-2\" type=\"checkbox\" ><label for=\"sk-estimator-id-2\" class=\"sk-toggleable__label sk-toggleable__label-arrow\">GridSearchCV</label><div class=\"sk-toggleable__content\"><pre>GridSearchCV(estimator=DecisionTreeClassifier(max_depth=4, random_state=13),\n",
       "             param_grid={&#x27;max_depth&#x27;: [2, 4, 8, 10, 12, 15, 20, 30]},\n",
       "             return_train_score=True, scoring=&#x27;accuracy&#x27;)</pre></div></div></div><div class=\"sk-parallel\"><div class=\"sk-parallel-item\"><div class=\"sk-item\"><div class=\"sk-label-container\"><div class=\"sk-label sk-toggleable\"><input class=\"sk-toggleable__control sk-hidden--visually\" id=\"sk-estimator-id-3\" type=\"checkbox\" ><label for=\"sk-estimator-id-3\" class=\"sk-toggleable__label sk-toggleable__label-arrow\">estimator: DecisionTreeClassifier</label><div class=\"sk-toggleable__content\"><pre>DecisionTreeClassifier(max_depth=4, random_state=13)</pre></div></div></div><div class=\"sk-serial\"><div class=\"sk-item\"><div class=\"sk-estimator sk-toggleable\"><input class=\"sk-toggleable__control sk-hidden--visually\" id=\"sk-estimator-id-4\" type=\"checkbox\" ><label for=\"sk-estimator-id-4\" class=\"sk-toggleable__label sk-toggleable__label-arrow\">DecisionTreeClassifier</label><div class=\"sk-toggleable__content\"><pre>DecisionTreeClassifier(max_depth=4, random_state=13)</pre></div></div></div></div></div></div></div></div></div></div>"
      ],
      "text/plain": [
       "GridSearchCV(estimator=DecisionTreeClassifier(max_depth=4, random_state=13),\n",
       "             param_grid={'max_depth': [2, 4, 8, 10, 12, 15, 20, 30]},\n",
       "             return_train_score=True, scoring='accuracy')"
      ]
     },
     "execution_count": 27,
     "metadata": {},
     "output_type": "execute_result"
    }
   ],
   "source": [
    "grid_cv = GridSearchCV(dt_clf, param_grid=params,\n",
    "                       scoring='accuracy',\n",
    "                       return_train_score=True\n",
    "                       )\n",
    "grid_cv.fit(X_train, y_train)"
   ]
  },
  {
   "cell_type": "code",
   "execution_count": 28,
   "metadata": {},
   "outputs": [
    {
     "data": {
      "text/plain": [
       "(0.7146535406889137, {'max_depth': 4})"
      ]
     },
     "execution_count": 28,
     "metadata": {},
     "output_type": "execute_result"
    }
   ],
   "source": [
    "grid_cv.best_score_, grid_cv.best_params_"
   ]
  },
  {
   "attachments": {},
   "cell_type": "markdown",
   "metadata": {},
   "source": [
    "**실제 test 데이터에서의 결과**"
   ]
  },
  {
   "cell_type": "code",
   "execution_count": 29,
   "metadata": {},
   "outputs": [
    {
     "name": "stdout",
     "output_type": "stream",
     "text": [
      "Max_depth :  2 Acc :  0.7174665360757427\n",
      "Max_depth :  4 Acc :  0.7179236043095005\n",
      "Max_depth :  8 Acc :  0.7153770812928502\n",
      "Max_depth :  10 Acc :  0.7102187397975841\n",
      "Max_depth :  12 Acc :  0.6989879203395364\n"
     ]
    }
   ],
   "source": [
    "max_depth = [2, 4, 8, 10, 12]\n",
    "\n",
    "for depth in max_depth:\n",
    "    dt_clf = DecisionTreeClassifier(max_depth=depth, random_state=13)\n",
    "    dt_clf.fit(X_train, y_train)\n",
    "\n",
    "    pred = dt_clf.predict(X_test)\n",
    "    acc = accuracy_score(y_test, pred)\n",
    "\n",
    "    print('Max_depth : ', depth, 'Acc : ', acc)\n"
   ]
  },
  {
   "cell_type": "code",
   "execution_count": 30,
   "metadata": {},
   "outputs": [
    {
     "name": "stdout",
     "output_type": "stream",
     "text": [
      "Max_depth :  2 Acc :  0.7174665360757427\n",
      "Max_depth :  3 Acc :  0.7175971269996735\n",
      "Max_depth :  4 Acc :  0.7179236043095005\n",
      "Max_depth :  5 Acc :  0.7167482859941234\n",
      "Max_depth :  6 Acc :  0.7183153770812929\n",
      "Max_depth :  7 Acc :  0.715181194906954\n"
     ]
    }
   ],
   "source": [
    "max_depth = [2, 3, 4, 5, 6, 7]\n",
    "\n",
    "for depth in max_depth:\n",
    "    dt_clf = DecisionTreeClassifier(max_depth=depth, random_state=13)\n",
    "    dt_clf.fit(X_train, y_train)\n",
    "\n",
    "    pred = dt_clf.predict(X_test)\n",
    "    acc = accuracy_score(y_test, pred)\n",
    "\n",
    "    print('Max_depth : ', depth, 'Acc : ', acc)\n"
   ]
  },
  {
   "cell_type": "code",
   "execution_count": 31,
   "metadata": {},
   "outputs": [
    {
     "data": {
      "text/plain": [
       "0.7179236043095005"
      ]
     },
     "execution_count": 31,
     "metadata": {},
     "output_type": "execute_result"
    }
   ],
   "source": [
    "# GridSearchCV 사용\n",
    "best_dt_clf = grid_cv.best_estimator_\n",
    "pred1 = best_dt_clf.predict(X_test)\n",
    "\n",
    "accuracy_score(y_test, pred1)"
   ]
  },
  {
   "attachments": {},
   "cell_type": "markdown",
   "metadata": {},
   "source": [
    "- Decision Tree 는 max_depth = 4 일때 최고성능"
   ]
  },
  {
   "attachments": {},
   "cell_type": "markdown",
   "metadata": {},
   "source": [
    "#### 2.1.2 Random Forest"
   ]
  },
  {
   "cell_type": "code",
   "execution_count": 32,
   "metadata": {},
   "outputs": [],
   "source": [
    "from sklearn.ensemble import RandomForestClassifier\n",
    "\n",
    "params = {\n",
    "    'max_depth' : [4,6,8,10,15],\n",
    "    'n_estimators' : [50, 100, 200],\n",
    "    'min_samples_leaf' : [8, 12],\n",
    "    'min_samples_split' : [8, 12]\n",
    "}"
   ]
  },
  {
   "cell_type": "code",
   "execution_count": 33,
   "metadata": {},
   "outputs": [
    {
     "data": {
      "text/html": [
       "<style>#sk-container-id-3 {color: black;background-color: white;}#sk-container-id-3 pre{padding: 0;}#sk-container-id-3 div.sk-toggleable {background-color: white;}#sk-container-id-3 label.sk-toggleable__label {cursor: pointer;display: block;width: 100%;margin-bottom: 0;padding: 0.3em;box-sizing: border-box;text-align: center;}#sk-container-id-3 label.sk-toggleable__label-arrow:before {content: \"▸\";float: left;margin-right: 0.25em;color: #696969;}#sk-container-id-3 label.sk-toggleable__label-arrow:hover:before {color: black;}#sk-container-id-3 div.sk-estimator:hover label.sk-toggleable__label-arrow:before {color: black;}#sk-container-id-3 div.sk-toggleable__content {max-height: 0;max-width: 0;overflow: hidden;text-align: left;background-color: #f0f8ff;}#sk-container-id-3 div.sk-toggleable__content pre {margin: 0.2em;color: black;border-radius: 0.25em;background-color: #f0f8ff;}#sk-container-id-3 input.sk-toggleable__control:checked~div.sk-toggleable__content {max-height: 200px;max-width: 100%;overflow: auto;}#sk-container-id-3 input.sk-toggleable__control:checked~label.sk-toggleable__label-arrow:before {content: \"▾\";}#sk-container-id-3 div.sk-estimator input.sk-toggleable__control:checked~label.sk-toggleable__label {background-color: #d4ebff;}#sk-container-id-3 div.sk-label input.sk-toggleable__control:checked~label.sk-toggleable__label {background-color: #d4ebff;}#sk-container-id-3 input.sk-hidden--visually {border: 0;clip: rect(1px 1px 1px 1px);clip: rect(1px, 1px, 1px, 1px);height: 1px;margin: -1px;overflow: hidden;padding: 0;position: absolute;width: 1px;}#sk-container-id-3 div.sk-estimator {font-family: monospace;background-color: #f0f8ff;border: 1px dotted black;border-radius: 0.25em;box-sizing: border-box;margin-bottom: 0.5em;}#sk-container-id-3 div.sk-estimator:hover {background-color: #d4ebff;}#sk-container-id-3 div.sk-parallel-item::after {content: \"\";width: 100%;border-bottom: 1px solid gray;flex-grow: 1;}#sk-container-id-3 div.sk-label:hover label.sk-toggleable__label {background-color: #d4ebff;}#sk-container-id-3 div.sk-serial::before {content: \"\";position: absolute;border-left: 1px solid gray;box-sizing: border-box;top: 0;bottom: 0;left: 50%;z-index: 0;}#sk-container-id-3 div.sk-serial {display: flex;flex-direction: column;align-items: center;background-color: white;padding-right: 0.2em;padding-left: 0.2em;position: relative;}#sk-container-id-3 div.sk-item {position: relative;z-index: 1;}#sk-container-id-3 div.sk-parallel {display: flex;align-items: stretch;justify-content: center;background-color: white;position: relative;}#sk-container-id-3 div.sk-item::before, #sk-container-id-3 div.sk-parallel-item::before {content: \"\";position: absolute;border-left: 1px solid gray;box-sizing: border-box;top: 0;bottom: 0;left: 50%;z-index: -1;}#sk-container-id-3 div.sk-parallel-item {display: flex;flex-direction: column;z-index: 1;position: relative;background-color: white;}#sk-container-id-3 div.sk-parallel-item:first-child::after {align-self: flex-end;width: 50%;}#sk-container-id-3 div.sk-parallel-item:last-child::after {align-self: flex-start;width: 50%;}#sk-container-id-3 div.sk-parallel-item:only-child::after {width: 0;}#sk-container-id-3 div.sk-dashed-wrapped {border: 1px dashed gray;margin: 0 0.4em 0.5em 0.4em;box-sizing: border-box;padding-bottom: 0.4em;background-color: white;}#sk-container-id-3 div.sk-label label {font-family: monospace;font-weight: bold;display: inline-block;line-height: 1.2em;}#sk-container-id-3 div.sk-label-container {text-align: center;}#sk-container-id-3 div.sk-container {/* jupyter's `normalize.less` sets `[hidden] { display: none; }` but bootstrap.min.css set `[hidden] { display: none !important; }` so we also need the `!important` here to be able to override the default hidden behavior on the sphinx rendered scikit-learn.org. See: https://github.com/scikit-learn/scikit-learn/issues/21755 */display: inline-block !important;position: relative;}#sk-container-id-3 div.sk-text-repr-fallback {display: none;}</style><div id=\"sk-container-id-3\" class=\"sk-top-container\"><div class=\"sk-text-repr-fallback\"><pre>GridSearchCV(cv=2, estimator=RandomForestClassifier(n_jobs=-1, random_state=13),\n",
       "             n_jobs=-1,\n",
       "             param_grid={&#x27;max_depth&#x27;: [4, 6, 8, 10, 15],\n",
       "                         &#x27;min_samples_leaf&#x27;: [8, 12],\n",
       "                         &#x27;min_samples_split&#x27;: [8, 12],\n",
       "                         &#x27;n_estimators&#x27;: [50, 100, 200]})</pre><b>In a Jupyter environment, please rerun this cell to show the HTML representation or trust the notebook. <br />On GitHub, the HTML representation is unable to render, please try loading this page with nbviewer.org.</b></div><div class=\"sk-container\" hidden><div class=\"sk-item sk-dashed-wrapped\"><div class=\"sk-label-container\"><div class=\"sk-label sk-toggleable\"><input class=\"sk-toggleable__control sk-hidden--visually\" id=\"sk-estimator-id-5\" type=\"checkbox\" ><label for=\"sk-estimator-id-5\" class=\"sk-toggleable__label sk-toggleable__label-arrow\">GridSearchCV</label><div class=\"sk-toggleable__content\"><pre>GridSearchCV(cv=2, estimator=RandomForestClassifier(n_jobs=-1, random_state=13),\n",
       "             n_jobs=-1,\n",
       "             param_grid={&#x27;max_depth&#x27;: [4, 6, 8, 10, 15],\n",
       "                         &#x27;min_samples_leaf&#x27;: [8, 12],\n",
       "                         &#x27;min_samples_split&#x27;: [8, 12],\n",
       "                         &#x27;n_estimators&#x27;: [50, 100, 200]})</pre></div></div></div><div class=\"sk-parallel\"><div class=\"sk-parallel-item\"><div class=\"sk-item\"><div class=\"sk-label-container\"><div class=\"sk-label sk-toggleable\"><input class=\"sk-toggleable__control sk-hidden--visually\" id=\"sk-estimator-id-6\" type=\"checkbox\" ><label for=\"sk-estimator-id-6\" class=\"sk-toggleable__label sk-toggleable__label-arrow\">estimator: RandomForestClassifier</label><div class=\"sk-toggleable__content\"><pre>RandomForestClassifier(n_jobs=-1, random_state=13)</pre></div></div></div><div class=\"sk-serial\"><div class=\"sk-item\"><div class=\"sk-estimator sk-toggleable\"><input class=\"sk-toggleable__control sk-hidden--visually\" id=\"sk-estimator-id-7\" type=\"checkbox\" ><label for=\"sk-estimator-id-7\" class=\"sk-toggleable__label sk-toggleable__label-arrow\">RandomForestClassifier</label><div class=\"sk-toggleable__content\"><pre>RandomForestClassifier(n_jobs=-1, random_state=13)</pre></div></div></div></div></div></div></div></div></div></div>"
      ],
      "text/plain": [
       "GridSearchCV(cv=2, estimator=RandomForestClassifier(n_jobs=-1, random_state=13),\n",
       "             n_jobs=-1,\n",
       "             param_grid={'max_depth': [4, 6, 8, 10, 15],\n",
       "                         'min_samples_leaf': [8, 12],\n",
       "                         'min_samples_split': [8, 12],\n",
       "                         'n_estimators': [50, 100, 200]})"
      ]
     },
     "execution_count": 33,
     "metadata": {},
     "output_type": "execute_result"
    }
   ],
   "source": [
    "rf_clf = RandomForestClassifier(random_state=13, n_jobs=-1)\n",
    "grid_cv = GridSearchCV(rf_clf, param_grid=params, cv=2, n_jobs=-1)\n",
    "grid_cv.fit(X_train, y_train)"
   ]
  },
  {
   "cell_type": "code",
   "execution_count": 34,
   "metadata": {},
   "outputs": [
    {
     "data": {
      "text/html": [
       "<div>\n",
       "<style scoped>\n",
       "    .dataframe tbody tr th:only-of-type {\n",
       "        vertical-align: middle;\n",
       "    }\n",
       "\n",
       "    .dataframe tbody tr th {\n",
       "        vertical-align: top;\n",
       "    }\n",
       "\n",
       "    .dataframe thead th {\n",
       "        text-align: right;\n",
       "    }\n",
       "</style>\n",
       "<table border=\"1\" class=\"dataframe\">\n",
       "  <thead>\n",
       "    <tr style=\"text-align: right;\">\n",
       "      <th></th>\n",
       "      <th>rank_test_score</th>\n",
       "      <th>mean_test_score</th>\n",
       "      <th>param_n_estimators</th>\n",
       "      <th>param_max_depth</th>\n",
       "    </tr>\n",
       "  </thead>\n",
       "  <tbody>\n",
       "    <tr>\n",
       "      <th>55</th>\n",
       "      <td>1</td>\n",
       "      <td>0.716277</td>\n",
       "      <td>100</td>\n",
       "      <td>15</td>\n",
       "    </tr>\n",
       "    <tr>\n",
       "      <th>51</th>\n",
       "      <td>1</td>\n",
       "      <td>0.716277</td>\n",
       "      <td>50</td>\n",
       "      <td>15</td>\n",
       "    </tr>\n",
       "    <tr>\n",
       "      <th>48</th>\n",
       "      <td>1</td>\n",
       "      <td>0.716277</td>\n",
       "      <td>50</td>\n",
       "      <td>15</td>\n",
       "    </tr>\n",
       "    <tr>\n",
       "      <th>58</th>\n",
       "      <td>1</td>\n",
       "      <td>0.716277</td>\n",
       "      <td>100</td>\n",
       "      <td>15</td>\n",
       "    </tr>\n",
       "    <tr>\n",
       "      <th>53</th>\n",
       "      <td>5</td>\n",
       "      <td>0.716193</td>\n",
       "      <td>200</td>\n",
       "      <td>15</td>\n",
       "    </tr>\n",
       "  </tbody>\n",
       "</table>\n",
       "</div>"
      ],
      "text/plain": [
       "    rank_test_score  mean_test_score param_n_estimators param_max_depth\n",
       "55                1         0.716277                100              15\n",
       "51                1         0.716277                 50              15\n",
       "48                1         0.716277                 50              15\n",
       "58                1         0.716277                100              15\n",
       "53                5         0.716193                200              15"
      ]
     },
     "execution_count": 34,
     "metadata": {},
     "output_type": "execute_result"
    }
   ],
   "source": [
    "cv_result_df = pd.DataFrame(grid_cv.cv_results_)\n",
    "cv_result_df[['rank_test_score', 'mean_test_score', 'param_n_estimators', 'param_max_depth']].sort_values('rank_test_score').head()"
   ]
  },
  {
   "attachments": {},
   "cell_type": "markdown",
   "metadata": {},
   "source": [
    "**실제 test 데이터에서의 결과**"
   ]
  },
  {
   "cell_type": "code",
   "execution_count": 35,
   "metadata": {},
   "outputs": [
    {
     "data": {
      "text/html": [
       "<style>#sk-container-id-4 {color: black;background-color: white;}#sk-container-id-4 pre{padding: 0;}#sk-container-id-4 div.sk-toggleable {background-color: white;}#sk-container-id-4 label.sk-toggleable__label {cursor: pointer;display: block;width: 100%;margin-bottom: 0;padding: 0.3em;box-sizing: border-box;text-align: center;}#sk-container-id-4 label.sk-toggleable__label-arrow:before {content: \"▸\";float: left;margin-right: 0.25em;color: #696969;}#sk-container-id-4 label.sk-toggleable__label-arrow:hover:before {color: black;}#sk-container-id-4 div.sk-estimator:hover label.sk-toggleable__label-arrow:before {color: black;}#sk-container-id-4 div.sk-toggleable__content {max-height: 0;max-width: 0;overflow: hidden;text-align: left;background-color: #f0f8ff;}#sk-container-id-4 div.sk-toggleable__content pre {margin: 0.2em;color: black;border-radius: 0.25em;background-color: #f0f8ff;}#sk-container-id-4 input.sk-toggleable__control:checked~div.sk-toggleable__content {max-height: 200px;max-width: 100%;overflow: auto;}#sk-container-id-4 input.sk-toggleable__control:checked~label.sk-toggleable__label-arrow:before {content: \"▾\";}#sk-container-id-4 div.sk-estimator input.sk-toggleable__control:checked~label.sk-toggleable__label {background-color: #d4ebff;}#sk-container-id-4 div.sk-label input.sk-toggleable__control:checked~label.sk-toggleable__label {background-color: #d4ebff;}#sk-container-id-4 input.sk-hidden--visually {border: 0;clip: rect(1px 1px 1px 1px);clip: rect(1px, 1px, 1px, 1px);height: 1px;margin: -1px;overflow: hidden;padding: 0;position: absolute;width: 1px;}#sk-container-id-4 div.sk-estimator {font-family: monospace;background-color: #f0f8ff;border: 1px dotted black;border-radius: 0.25em;box-sizing: border-box;margin-bottom: 0.5em;}#sk-container-id-4 div.sk-estimator:hover {background-color: #d4ebff;}#sk-container-id-4 div.sk-parallel-item::after {content: \"\";width: 100%;border-bottom: 1px solid gray;flex-grow: 1;}#sk-container-id-4 div.sk-label:hover label.sk-toggleable__label {background-color: #d4ebff;}#sk-container-id-4 div.sk-serial::before {content: \"\";position: absolute;border-left: 1px solid gray;box-sizing: border-box;top: 0;bottom: 0;left: 50%;z-index: 0;}#sk-container-id-4 div.sk-serial {display: flex;flex-direction: column;align-items: center;background-color: white;padding-right: 0.2em;padding-left: 0.2em;position: relative;}#sk-container-id-4 div.sk-item {position: relative;z-index: 1;}#sk-container-id-4 div.sk-parallel {display: flex;align-items: stretch;justify-content: center;background-color: white;position: relative;}#sk-container-id-4 div.sk-item::before, #sk-container-id-4 div.sk-parallel-item::before {content: \"\";position: absolute;border-left: 1px solid gray;box-sizing: border-box;top: 0;bottom: 0;left: 50%;z-index: -1;}#sk-container-id-4 div.sk-parallel-item {display: flex;flex-direction: column;z-index: 1;position: relative;background-color: white;}#sk-container-id-4 div.sk-parallel-item:first-child::after {align-self: flex-end;width: 50%;}#sk-container-id-4 div.sk-parallel-item:last-child::after {align-self: flex-start;width: 50%;}#sk-container-id-4 div.sk-parallel-item:only-child::after {width: 0;}#sk-container-id-4 div.sk-dashed-wrapped {border: 1px dashed gray;margin: 0 0.4em 0.5em 0.4em;box-sizing: border-box;padding-bottom: 0.4em;background-color: white;}#sk-container-id-4 div.sk-label label {font-family: monospace;font-weight: bold;display: inline-block;line-height: 1.2em;}#sk-container-id-4 div.sk-label-container {text-align: center;}#sk-container-id-4 div.sk-container {/* jupyter's `normalize.less` sets `[hidden] { display: none; }` but bootstrap.min.css set `[hidden] { display: none !important; }` so we also need the `!important` here to be able to override the default hidden behavior on the sphinx rendered scikit-learn.org. See: https://github.com/scikit-learn/scikit-learn/issues/21755 */display: inline-block !important;position: relative;}#sk-container-id-4 div.sk-text-repr-fallback {display: none;}</style><div id=\"sk-container-id-4\" class=\"sk-top-container\"><div class=\"sk-text-repr-fallback\"><pre>RandomForestClassifier(max_depth=15, min_samples_leaf=8, min_samples_split=8,\n",
       "                       n_estimators=50, n_jobs=-1, random_state=13)</pre><b>In a Jupyter environment, please rerun this cell to show the HTML representation or trust the notebook. <br />On GitHub, the HTML representation is unable to render, please try loading this page with nbviewer.org.</b></div><div class=\"sk-container\" hidden><div class=\"sk-item\"><div class=\"sk-estimator sk-toggleable\"><input class=\"sk-toggleable__control sk-hidden--visually\" id=\"sk-estimator-id-8\" type=\"checkbox\" checked><label for=\"sk-estimator-id-8\" class=\"sk-toggleable__label sk-toggleable__label-arrow\">RandomForestClassifier</label><div class=\"sk-toggleable__content\"><pre>RandomForestClassifier(max_depth=15, min_samples_leaf=8, min_samples_split=8,\n",
       "                       n_estimators=50, n_jobs=-1, random_state=13)</pre></div></div></div></div></div>"
      ],
      "text/plain": [
       "RandomForestClassifier(max_depth=15, min_samples_leaf=8, min_samples_split=8,\n",
       "                       n_estimators=50, n_jobs=-1, random_state=13)"
      ]
     },
     "execution_count": 35,
     "metadata": {},
     "output_type": "execute_result"
    }
   ],
   "source": [
    "rf_clf_best = grid_cv.best_estimator_\n",
    "rf_clf_best.fit(X_train, y_train)"
   ]
  },
  {
   "cell_type": "code",
   "execution_count": 36,
   "metadata": {},
   "outputs": [
    {
     "data": {
      "text/plain": [
       "0.7211883774077702"
      ]
     },
     "execution_count": 36,
     "metadata": {},
     "output_type": "execute_result"
    }
   ],
   "source": [
    "pred2 = rf_clf_best.predict(X_test)\n",
    "accuracy_score(y_test, pred2)"
   ]
  },
  {
   "attachments": {},
   "cell_type": "markdown",
   "metadata": {},
   "source": [
    "- DT 에서 71.7923% 확률\n",
    "- RF 에서 72.1188% 확률"
   ]
  },
  {
   "attachments": {},
   "cell_type": "markdown",
   "metadata": {},
   "source": [
    "#### 2.1.3 중요 features 확인 및 re_modeling"
   ]
  },
  {
   "cell_type": "code",
   "execution_count": 37,
   "metadata": {},
   "outputs": [],
   "source": [
    "best_cols_values = rf_clf_best.feature_importances_"
   ]
  },
  {
   "cell_type": "code",
   "execution_count": 38,
   "metadata": {},
   "outputs": [
    {
     "data": {
      "text/plain": [
       "CurrentEquipmentDays    0.085488\n",
       "MonthsInService         0.066258\n",
       "MonthlyMinutes          0.058741\n",
       "PercChangeMinutes       0.057870\n",
       "CustomerID              0.053553\n",
       "MonthlyRevenue          0.042241\n",
       "PercChangeRevenues      0.040862\n",
       "PeakCallsInOut          0.037112\n",
       "OffPeakCallsInOut       0.035679\n",
       "TotalRecurringCharge    0.033178\n",
       "UnansweredCalls         0.032345\n",
       "ReceivedCalls           0.030559\n",
       "OverageMinutes          0.030162\n",
       "OutboundCalls           0.029519\n",
       "DroppedBlockedCalls     0.028246\n",
       "AgeHH1                  0.027747\n",
       "DroppedCalls            0.025242\n",
       "InboundCalls            0.023600\n",
       "BlockedCalls            0.021665\n",
       "CreditRating            0.017561\n",
       "dtype: float64"
      ]
     },
     "execution_count": 38,
     "metadata": {},
     "output_type": "execute_result"
    }
   ],
   "source": [
    "best_cols = pd.Series(best_cols_values, index=X_train.columns)\n",
    "top20_cols = best_cols.sort_values(ascending=False)[:20]\n",
    "top20_cols"
   ]
  },
  {
   "attachments": {},
   "cell_type": "markdown",
   "metadata": {},
   "source": [
    "**상위 20개 특성만 가지고 다시 성능 확인**"
   ]
  },
  {
   "cell_type": "code",
   "execution_count": 39,
   "metadata": {},
   "outputs": [],
   "source": [
    "X_train_re = X_train[top20_cols.index]\n",
    "X_test_re = X_test[top20_cols.index]"
   ]
  },
  {
   "cell_type": "code",
   "execution_count": 40,
   "metadata": {},
   "outputs": [
    {
     "data": {
      "text/plain": [
       "0.715181194906954"
      ]
     },
     "execution_count": 40,
     "metadata": {},
     "output_type": "execute_result"
    }
   ],
   "source": [
    "# Decision Tree\n",
    "dt_clf_re = DecisionTreeClassifier(max_depth=4, random_state=13)\n",
    "dt_clf_re.fit(X_train_re, y_train)\n",
    "\n",
    "pred_re = dt_clf_re.predict(X_test_re)\n",
    "accuracy_score(y_test, pred)"
   ]
  },
  {
   "attachments": {},
   "cell_type": "markdown",
   "metadata": {},
   "source": [
    "- 기존 71.9 -> 71.5 조정"
   ]
  },
  {
   "cell_type": "code",
   "execution_count": 209,
   "metadata": {},
   "outputs": [
    {
     "data": {
      "text/html": [
       "<style>#sk-container-id-29 {color: black;background-color: white;}#sk-container-id-29 pre{padding: 0;}#sk-container-id-29 div.sk-toggleable {background-color: white;}#sk-container-id-29 label.sk-toggleable__label {cursor: pointer;display: block;width: 100%;margin-bottom: 0;padding: 0.3em;box-sizing: border-box;text-align: center;}#sk-container-id-29 label.sk-toggleable__label-arrow:before {content: \"▸\";float: left;margin-right: 0.25em;color: #696969;}#sk-container-id-29 label.sk-toggleable__label-arrow:hover:before {color: black;}#sk-container-id-29 div.sk-estimator:hover label.sk-toggleable__label-arrow:before {color: black;}#sk-container-id-29 div.sk-toggleable__content {max-height: 0;max-width: 0;overflow: hidden;text-align: left;background-color: #f0f8ff;}#sk-container-id-29 div.sk-toggleable__content pre {margin: 0.2em;color: black;border-radius: 0.25em;background-color: #f0f8ff;}#sk-container-id-29 input.sk-toggleable__control:checked~div.sk-toggleable__content {max-height: 200px;max-width: 100%;overflow: auto;}#sk-container-id-29 input.sk-toggleable__control:checked~label.sk-toggleable__label-arrow:before {content: \"▾\";}#sk-container-id-29 div.sk-estimator input.sk-toggleable__control:checked~label.sk-toggleable__label {background-color: #d4ebff;}#sk-container-id-29 div.sk-label input.sk-toggleable__control:checked~label.sk-toggleable__label {background-color: #d4ebff;}#sk-container-id-29 input.sk-hidden--visually {border: 0;clip: rect(1px 1px 1px 1px);clip: rect(1px, 1px, 1px, 1px);height: 1px;margin: -1px;overflow: hidden;padding: 0;position: absolute;width: 1px;}#sk-container-id-29 div.sk-estimator {font-family: monospace;background-color: #f0f8ff;border: 1px dotted black;border-radius: 0.25em;box-sizing: border-box;margin-bottom: 0.5em;}#sk-container-id-29 div.sk-estimator:hover {background-color: #d4ebff;}#sk-container-id-29 div.sk-parallel-item::after {content: \"\";width: 100%;border-bottom: 1px solid gray;flex-grow: 1;}#sk-container-id-29 div.sk-label:hover label.sk-toggleable__label {background-color: #d4ebff;}#sk-container-id-29 div.sk-serial::before {content: \"\";position: absolute;border-left: 1px solid gray;box-sizing: border-box;top: 0;bottom: 0;left: 50%;z-index: 0;}#sk-container-id-29 div.sk-serial {display: flex;flex-direction: column;align-items: center;background-color: white;padding-right: 0.2em;padding-left: 0.2em;position: relative;}#sk-container-id-29 div.sk-item {position: relative;z-index: 1;}#sk-container-id-29 div.sk-parallel {display: flex;align-items: stretch;justify-content: center;background-color: white;position: relative;}#sk-container-id-29 div.sk-item::before, #sk-container-id-29 div.sk-parallel-item::before {content: \"\";position: absolute;border-left: 1px solid gray;box-sizing: border-box;top: 0;bottom: 0;left: 50%;z-index: -1;}#sk-container-id-29 div.sk-parallel-item {display: flex;flex-direction: column;z-index: 1;position: relative;background-color: white;}#sk-container-id-29 div.sk-parallel-item:first-child::after {align-self: flex-end;width: 50%;}#sk-container-id-29 div.sk-parallel-item:last-child::after {align-self: flex-start;width: 50%;}#sk-container-id-29 div.sk-parallel-item:only-child::after {width: 0;}#sk-container-id-29 div.sk-dashed-wrapped {border: 1px dashed gray;margin: 0 0.4em 0.5em 0.4em;box-sizing: border-box;padding-bottom: 0.4em;background-color: white;}#sk-container-id-29 div.sk-label label {font-family: monospace;font-weight: bold;display: inline-block;line-height: 1.2em;}#sk-container-id-29 div.sk-label-container {text-align: center;}#sk-container-id-29 div.sk-container {/* jupyter's `normalize.less` sets `[hidden] { display: none; }` but bootstrap.min.css set `[hidden] { display: none !important; }` so we also need the `!important` here to be able to override the default hidden behavior on the sphinx rendered scikit-learn.org. See: https://github.com/scikit-learn/scikit-learn/issues/21755 */display: inline-block !important;position: relative;}#sk-container-id-29 div.sk-text-repr-fallback {display: none;}</style><div id=\"sk-container-id-29\" class=\"sk-top-container\"><div class=\"sk-text-repr-fallback\"><pre>RandomForestClassifier(max_depth=15, min_samples_leaf=8, min_samples_split=8,\n",
       "                       n_estimators=50, n_jobs=-1, random_state=13)</pre><b>In a Jupyter environment, please rerun this cell to show the HTML representation or trust the notebook. <br />On GitHub, the HTML representation is unable to render, please try loading this page with nbviewer.org.</b></div><div class=\"sk-container\" hidden><div class=\"sk-item\"><div class=\"sk-estimator sk-toggleable\"><input class=\"sk-toggleable__control sk-hidden--visually\" id=\"sk-estimator-id-55\" type=\"checkbox\" checked><label for=\"sk-estimator-id-55\" class=\"sk-toggleable__label sk-toggleable__label-arrow\">RandomForestClassifier</label><div class=\"sk-toggleable__content\"><pre>RandomForestClassifier(max_depth=15, min_samples_leaf=8, min_samples_split=8,\n",
       "                       n_estimators=50, n_jobs=-1, random_state=13)</pre></div></div></div></div></div>"
      ],
      "text/plain": [
       "RandomForestClassifier(max_depth=15, min_samples_leaf=8, min_samples_split=8,\n",
       "                       n_estimators=50, n_jobs=-1, random_state=13)"
      ]
     },
     "execution_count": 209,
     "metadata": {},
     "output_type": "execute_result"
    }
   ],
   "source": [
    "rf_clf_best_re = grid_cv.best_estimator_\n",
    "rf_clf_best_re.fit(X_train_re, y_train.values.reshape(-1,))"
   ]
  },
  {
   "cell_type": "code",
   "execution_count": 211,
   "metadata": {},
   "outputs": [
    {
     "data": {
      "text/plain": [
       "0.7195559908586353"
      ]
     },
     "execution_count": 211,
     "metadata": {},
     "output_type": "execute_result"
    }
   ],
   "source": [
    "pred2_re = rf_clf_best_re.predict(X_test_re)\n",
    "accuracy_score(y_test, pred2_re)"
   ]
  },
  {
   "attachments": {},
   "cell_type": "markdown",
   "metadata": {},
   "source": [
    "- 기존 72.1188 -> 71.9559 조정"
   ]
  },
  {
   "attachments": {},
   "cell_type": "markdown",
   "metadata": {},
   "source": [
    "#### 2.1.4. LightGBM\n",
    "- 중요 features 로만 확인"
   ]
  },
  {
   "cell_type": "code",
   "execution_count": 259,
   "metadata": {},
   "outputs": [
    {
     "name": "stderr",
     "output_type": "stream",
     "text": [
      "/Users/sangminkim/miniforge3/lib/python3.10/site-packages/lightgbm/sklearn.py:726: UserWarning: 'early_stopping_rounds' argument is deprecated and will be removed in a future release of LightGBM. Pass 'early_stopping()' callback via 'callbacks' argument instead.\n",
      "  _log_warning(\"'early_stopping_rounds' argument is deprecated and will be removed in a future release of LightGBM. \"\n"
     ]
    },
    {
     "name": "stdout",
     "output_type": "stream",
     "text": [
      "[1]\tvalid_0's binary_logloss: 0.592018\n",
      "[2]\tvalid_0's binary_logloss: 0.587948\n",
      "[3]\tvalid_0's binary_logloss: 0.584553\n",
      "[4]\tvalid_0's binary_logloss: 0.581688\n",
      "[5]\tvalid_0's binary_logloss: 0.579245\n",
      "[6]\tvalid_0's binary_logloss: 0.577229\n",
      "[7]\tvalid_0's binary_logloss: 0.575474\n",
      "[8]\tvalid_0's binary_logloss: 0.574058\n",
      "[9]\tvalid_0's binary_logloss: 0.572796\n",
      "[10]\tvalid_0's binary_logloss: 0.571561\n",
      "[11]\tvalid_0's binary_logloss: 0.570619\n",
      "[12]\tvalid_0's binary_logloss: 0.569819\n",
      "[13]\tvalid_0's binary_logloss: 0.568881\n",
      "[14]\tvalid_0's binary_logloss: 0.568383\n",
      "[15]\tvalid_0's binary_logloss: 0.567605\n",
      "[16]\tvalid_0's binary_logloss: 0.566983\n",
      "[17]\tvalid_0's binary_logloss: 0.566321\n",
      "[18]\tvalid_0's binary_logloss: 0.565627\n",
      "[19]\tvalid_0's binary_logloss: 0.565294\n",
      "[20]\tvalid_0's binary_logloss: 0.564806\n",
      "[21]\tvalid_0's binary_logloss: 0.564483\n",
      "[22]\tvalid_0's binary_logloss: 0.563992\n",
      "[23]\tvalid_0's binary_logloss: 0.563677\n",
      "[24]\tvalid_0's binary_logloss: 0.563507\n",
      "[25]\tvalid_0's binary_logloss: 0.563321\n",
      "[26]\tvalid_0's binary_logloss: 0.563059\n",
      "[27]\tvalid_0's binary_logloss: 0.563003\n",
      "[28]\tvalid_0's binary_logloss: 0.562759\n",
      "[29]\tvalid_0's binary_logloss: 0.562487\n",
      "[30]\tvalid_0's binary_logloss: 0.562259\n",
      "[31]\tvalid_0's binary_logloss: 0.562148\n",
      "[32]\tvalid_0's binary_logloss: 0.56192\n",
      "[33]\tvalid_0's binary_logloss: 0.561745\n",
      "[34]\tvalid_0's binary_logloss: 0.561756\n",
      "[35]\tvalid_0's binary_logloss: 0.561443\n",
      "[36]\tvalid_0's binary_logloss: 0.561338\n",
      "[37]\tvalid_0's binary_logloss: 0.561239\n",
      "[38]\tvalid_0's binary_logloss: 0.561036\n",
      "[39]\tvalid_0's binary_logloss: 0.560884\n",
      "[40]\tvalid_0's binary_logloss: 0.560781\n",
      "[41]\tvalid_0's binary_logloss: 0.560836\n",
      "[42]\tvalid_0's binary_logloss: 0.56071\n",
      "[43]\tvalid_0's binary_logloss: 0.560832\n",
      "[44]\tvalid_0's binary_logloss: 0.560773\n",
      "[45]\tvalid_0's binary_logloss: 0.5607\n",
      "[46]\tvalid_0's binary_logloss: 0.560552\n",
      "[47]\tvalid_0's binary_logloss: 0.560458\n",
      "[48]\tvalid_0's binary_logloss: 0.560305\n",
      "[49]\tvalid_0's binary_logloss: 0.560326\n",
      "[50]\tvalid_0's binary_logloss: 0.560178\n",
      "[51]\tvalid_0's binary_logloss: 0.560188\n",
      "[52]\tvalid_0's binary_logloss: 0.560135\n",
      "[53]\tvalid_0's binary_logloss: 0.560127\n",
      "[54]\tvalid_0's binary_logloss: 0.560111\n",
      "[55]\tvalid_0's binary_logloss: 0.560097\n",
      "[56]\tvalid_0's binary_logloss: 0.560193\n",
      "[57]\tvalid_0's binary_logloss: 0.560237\n",
      "[58]\tvalid_0's binary_logloss: 0.560322\n",
      "[59]\tvalid_0's binary_logloss: 0.560347\n",
      "[60]\tvalid_0's binary_logloss: 0.560314\n",
      "[61]\tvalid_0's binary_logloss: 0.560427\n",
      "[62]\tvalid_0's binary_logloss: 0.560364\n",
      "[63]\tvalid_0's binary_logloss: 0.560325\n",
      "[64]\tvalid_0's binary_logloss: 0.560417\n",
      "[65]\tvalid_0's binary_logloss: 0.560434\n",
      "[66]\tvalid_0's binary_logloss: 0.560475\n",
      "[67]\tvalid_0's binary_logloss: 0.560586\n",
      "[68]\tvalid_0's binary_logloss: 0.560523\n",
      "[69]\tvalid_0's binary_logloss: 0.560556\n",
      "[70]\tvalid_0's binary_logloss: 0.560509\n",
      "[71]\tvalid_0's binary_logloss: 0.560373\n",
      "[72]\tvalid_0's binary_logloss: 0.560372\n",
      "[73]\tvalid_0's binary_logloss: 0.560463\n",
      "[74]\tvalid_0's binary_logloss: 0.560368\n",
      "[75]\tvalid_0's binary_logloss: 0.560402\n"
     ]
    },
    {
     "data": {
      "text/html": [
       "<style>#sk-container-id-31 {color: black;background-color: white;}#sk-container-id-31 pre{padding: 0;}#sk-container-id-31 div.sk-toggleable {background-color: white;}#sk-container-id-31 label.sk-toggleable__label {cursor: pointer;display: block;width: 100%;margin-bottom: 0;padding: 0.3em;box-sizing: border-box;text-align: center;}#sk-container-id-31 label.sk-toggleable__label-arrow:before {content: \"▸\";float: left;margin-right: 0.25em;color: #696969;}#sk-container-id-31 label.sk-toggleable__label-arrow:hover:before {color: black;}#sk-container-id-31 div.sk-estimator:hover label.sk-toggleable__label-arrow:before {color: black;}#sk-container-id-31 div.sk-toggleable__content {max-height: 0;max-width: 0;overflow: hidden;text-align: left;background-color: #f0f8ff;}#sk-container-id-31 div.sk-toggleable__content pre {margin: 0.2em;color: black;border-radius: 0.25em;background-color: #f0f8ff;}#sk-container-id-31 input.sk-toggleable__control:checked~div.sk-toggleable__content {max-height: 200px;max-width: 100%;overflow: auto;}#sk-container-id-31 input.sk-toggleable__control:checked~label.sk-toggleable__label-arrow:before {content: \"▾\";}#sk-container-id-31 div.sk-estimator input.sk-toggleable__control:checked~label.sk-toggleable__label {background-color: #d4ebff;}#sk-container-id-31 div.sk-label input.sk-toggleable__control:checked~label.sk-toggleable__label {background-color: #d4ebff;}#sk-container-id-31 input.sk-hidden--visually {border: 0;clip: rect(1px 1px 1px 1px);clip: rect(1px, 1px, 1px, 1px);height: 1px;margin: -1px;overflow: hidden;padding: 0;position: absolute;width: 1px;}#sk-container-id-31 div.sk-estimator {font-family: monospace;background-color: #f0f8ff;border: 1px dotted black;border-radius: 0.25em;box-sizing: border-box;margin-bottom: 0.5em;}#sk-container-id-31 div.sk-estimator:hover {background-color: #d4ebff;}#sk-container-id-31 div.sk-parallel-item::after {content: \"\";width: 100%;border-bottom: 1px solid gray;flex-grow: 1;}#sk-container-id-31 div.sk-label:hover label.sk-toggleable__label {background-color: #d4ebff;}#sk-container-id-31 div.sk-serial::before {content: \"\";position: absolute;border-left: 1px solid gray;box-sizing: border-box;top: 0;bottom: 0;left: 50%;z-index: 0;}#sk-container-id-31 div.sk-serial {display: flex;flex-direction: column;align-items: center;background-color: white;padding-right: 0.2em;padding-left: 0.2em;position: relative;}#sk-container-id-31 div.sk-item {position: relative;z-index: 1;}#sk-container-id-31 div.sk-parallel {display: flex;align-items: stretch;justify-content: center;background-color: white;position: relative;}#sk-container-id-31 div.sk-item::before, #sk-container-id-31 div.sk-parallel-item::before {content: \"\";position: absolute;border-left: 1px solid gray;box-sizing: border-box;top: 0;bottom: 0;left: 50%;z-index: -1;}#sk-container-id-31 div.sk-parallel-item {display: flex;flex-direction: column;z-index: 1;position: relative;background-color: white;}#sk-container-id-31 div.sk-parallel-item:first-child::after {align-self: flex-end;width: 50%;}#sk-container-id-31 div.sk-parallel-item:last-child::after {align-self: flex-start;width: 50%;}#sk-container-id-31 div.sk-parallel-item:only-child::after {width: 0;}#sk-container-id-31 div.sk-dashed-wrapped {border: 1px dashed gray;margin: 0 0.4em 0.5em 0.4em;box-sizing: border-box;padding-bottom: 0.4em;background-color: white;}#sk-container-id-31 div.sk-label label {font-family: monospace;font-weight: bold;display: inline-block;line-height: 1.2em;}#sk-container-id-31 div.sk-label-container {text-align: center;}#sk-container-id-31 div.sk-container {/* jupyter's `normalize.less` sets `[hidden] { display: none; }` but bootstrap.min.css set `[hidden] { display: none !important; }` so we also need the `!important` here to be able to override the default hidden behavior on the sphinx rendered scikit-learn.org. See: https://github.com/scikit-learn/scikit-learn/issues/21755 */display: inline-block !important;position: relative;}#sk-container-id-31 div.sk-text-repr-fallback {display: none;}</style><div id=\"sk-container-id-31\" class=\"sk-top-container\"><div class=\"sk-text-repr-fallback\"><pre>LGBMClassifier(n_estimators=400)</pre><b>In a Jupyter environment, please rerun this cell to show the HTML representation or trust the notebook. <br />On GitHub, the HTML representation is unable to render, please try loading this page with nbviewer.org.</b></div><div class=\"sk-container\" hidden><div class=\"sk-item\"><div class=\"sk-estimator sk-toggleable\"><input class=\"sk-toggleable__control sk-hidden--visually\" id=\"sk-estimator-id-59\" type=\"checkbox\" checked><label for=\"sk-estimator-id-59\" class=\"sk-toggleable__label sk-toggleable__label-arrow\">LGBMClassifier</label><div class=\"sk-toggleable__content\"><pre>LGBMClassifier(n_estimators=400)</pre></div></div></div></div></div>"
      ],
      "text/plain": [
       "LGBMClassifier(n_estimators=400)"
      ]
     },
     "execution_count": 259,
     "metadata": {},
     "output_type": "execute_result"
    }
   ],
   "source": [
    "from lightgbm import LGBMClassifier\n",
    "import time\n",
    "\n",
    "evals = [(X_test_re.values, y_test)]\n",
    "\n",
    "start_time = time.time()\n",
    "lgbm = LGBMClassifier(n_estimators=400)\n",
    "lgbm.fit(X_train_re.values, y_train, early_stopping_rounds=20, eval_set=evals)"
   ]
  },
  {
   "cell_type": "code",
   "execution_count": 226,
   "metadata": {},
   "outputs": [
    {
     "data": {
      "text/plain": [
       "0.7219066274893895"
      ]
     },
     "execution_count": 226,
     "metadata": {},
     "output_type": "execute_result"
    }
   ],
   "source": [
    "accuracy_score(y_test, lgbm.predict(X_test_re.values))"
   ]
  },
  {
   "attachments": {},
   "cell_type": "markdown",
   "metadata": {},
   "source": [
    "LightGBM 의 경우 72.1906% 로 나온다."
   ]
  },
  {
   "attachments": {},
   "cell_type": "markdown",
   "metadata": {},
   "source": [
    "---"
   ]
  },
  {
   "attachments": {},
   "cell_type": "markdown",
   "metadata": {},
   "source": [
    "### 2.2. case2\n",
    "- corr 의 절대값이 높은 상위 15개 지표만 사용해봄\n",
    "- 결과는 accuracy 가 더 떨어졌다."
   ]
  },
  {
   "cell_type": "code",
   "execution_count": 237,
   "metadata": {},
   "outputs": [
    {
     "data": {
      "text/plain": [
       "['Churn',\n",
       " 'CurrentEquipmentDays',\n",
       " 'MadeCallToRetentionTeam',\n",
       " 'RetentionCalls',\n",
       " 'HandsetWebCapable',\n",
       " 'TotalRecurringCharge',\n",
       " 'MonthlyMinutes',\n",
       " 'CreditRating',\n",
       " 'CustomerID',\n",
       " 'OffPeakCallsInOut',\n",
       " 'HandsetModels',\n",
       " 'PeakCallsInOut',\n",
       " 'ReceivedCalls',\n",
       " 'CustomerCareCalls',\n",
       " 'RetentionOffersAccepted',\n",
       " 'UniqueSubs']"
      ]
     },
     "execution_count": 237,
     "metadata": {},
     "output_type": "execute_result"
    }
   ],
   "source": [
    "tmp = corr.iloc[:, 1].abs().sort_values(ascending=False)\n",
    "\n",
    "corr_best_col = tmp.index[:16].tolist()\n",
    "corr_best_col"
   ]
  },
  {
   "cell_type": "code",
   "execution_count": 238,
   "metadata": {},
   "outputs": [],
   "source": [
    "train_corr = train[corr_best_col]\n",
    "test_corr = test[corr_best_col]"
   ]
  },
  {
   "attachments": {},
   "cell_type": "markdown",
   "metadata": {},
   "source": [
    "#### train_test_split"
   ]
  },
  {
   "cell_type": "code",
   "execution_count": 239,
   "metadata": {},
   "outputs": [],
   "source": [
    "X = train_corr.drop(['Churn'], axis=1)\n",
    "y = train_corr['Churn']\n",
    "\n",
    "X_train, X_test, y_train, y_test = train_test_split(X, y, test_size=0.3, random_state=13)"
   ]
  },
  {
   "cell_type": "code",
   "execution_count": 242,
   "metadata": {},
   "outputs": [
    {
     "data": {
      "text/plain": [
       "((35732, 15), (15315, 15), (35732,), (15315,))"
      ]
     },
     "execution_count": 242,
     "metadata": {},
     "output_type": "execute_result"
    }
   ],
   "source": [
    "X_train.shape, X_test.shape, y_train.shape, y_test.shape"
   ]
  },
  {
   "cell_type": "code",
   "execution_count": 244,
   "metadata": {},
   "outputs": [
    {
     "data": {
      "text/plain": [
       "(0.7137859850970176, {'max_depth': 5})"
      ]
     },
     "execution_count": 244,
     "metadata": {},
     "output_type": "execute_result"
    }
   ],
   "source": [
    "# Decision Tree\n",
    "params = {\n",
    "    'max_depth': [2, 3, 4, 5, 6, 7, 8, 10, 15]\n",
    "}\n",
    "\n",
    "grid_cv_corr = GridSearchCV(dt_clf, param_grid=params,\n",
    "                           scoring='accuracy',\n",
    "                           return_train_score=True\n",
    "                           )\n",
    "grid_cv_corr.fit(X_train, y_train)\n",
    "\n",
    "grid_cv_corr.best_score_, grid_cv_corr.best_params_"
   ]
  },
  {
   "cell_type": "code",
   "execution_count": 245,
   "metadata": {},
   "outputs": [
    {
     "data": {
      "text/plain": [
       "0.7166176950701926"
      ]
     },
     "execution_count": 245,
     "metadata": {},
     "output_type": "execute_result"
    }
   ],
   "source": [
    "# 실제 Test 적용\n",
    "best_dt_clf_corr = grid_cv_corr.best_estimator_\n",
    "pred1_corr = best_dt_clf_corr.predict(X_test)\n",
    "\n",
    "accuracy_score(y_test, pred1_corr)\n"
   ]
  },
  {
   "cell_type": "code",
   "execution_count": 251,
   "metadata": {},
   "outputs": [
    {
     "data": {
      "text/html": [
       "<div>\n",
       "<style scoped>\n",
       "    .dataframe tbody tr th:only-of-type {\n",
       "        vertical-align: middle;\n",
       "    }\n",
       "\n",
       "    .dataframe tbody tr th {\n",
       "        vertical-align: top;\n",
       "    }\n",
       "\n",
       "    .dataframe thead th {\n",
       "        text-align: right;\n",
       "    }\n",
       "</style>\n",
       "<table border=\"1\" class=\"dataframe\">\n",
       "  <thead>\n",
       "    <tr style=\"text-align: right;\">\n",
       "      <th></th>\n",
       "      <th>rank_test_score</th>\n",
       "      <th>mean_test_score</th>\n",
       "      <th>param_n_estimators</th>\n",
       "      <th>param_max_depth</th>\n",
       "    </tr>\n",
       "  </thead>\n",
       "  <tbody>\n",
       "    <tr>\n",
       "      <th>38</th>\n",
       "      <td>1</td>\n",
       "      <td>0.714262</td>\n",
       "      <td>200</td>\n",
       "      <td>8</td>\n",
       "    </tr>\n",
       "    <tr>\n",
       "      <th>41</th>\n",
       "      <td>1</td>\n",
       "      <td>0.714262</td>\n",
       "      <td>200</td>\n",
       "      <td>8</td>\n",
       "    </tr>\n",
       "    <tr>\n",
       "      <th>46</th>\n",
       "      <td>3</td>\n",
       "      <td>0.714066</td>\n",
       "      <td>100</td>\n",
       "      <td>8</td>\n",
       "    </tr>\n",
       "  </tbody>\n",
       "</table>\n",
       "</div>"
      ],
      "text/plain": [
       "    rank_test_score  mean_test_score param_n_estimators param_max_depth\n",
       "38                1         0.714262                200               8\n",
       "41                1         0.714262                200               8\n",
       "46                3         0.714066                100               8"
      ]
     },
     "execution_count": 251,
     "metadata": {},
     "output_type": "execute_result"
    }
   ],
   "source": [
    "# Random Forest\n",
    "\n",
    "params = {\n",
    "    'max_depth' : [4,5,6,8],\n",
    "    'n_estimators' : [50, 100, 200],\n",
    "    'min_samples_leaf' : [8, 12],\n",
    "    'min_samples_split' : [8, 12]\n",
    "}\n",
    "\n",
    "rf_clf_corr = RandomForestClassifier(random_state=13, n_jobs=-1)\n",
    "grid_cv_corr = GridSearchCV(rf_clf_corr, param_grid=params, cv=2, n_jobs=-1)\n",
    "grid_cv_corr.fit(X_train, y_train)\n",
    "\n",
    "cv_result_df_corr = pd.DataFrame(grid_cv_corr.cv_results_)\n",
    "cv_result_df_corr[['rank_test_score', 'mean_test_score', 'param_n_estimators', 'param_max_depth']].sort_values('rank_test_score').head(3)"
   ]
  },
  {
   "cell_type": "code",
   "execution_count": 252,
   "metadata": {},
   "outputs": [
    {
     "data": {
      "text/plain": [
       "0.7192948090107738"
      ]
     },
     "execution_count": 252,
     "metadata": {},
     "output_type": "execute_result"
    }
   ],
   "source": [
    "# 실제 Test 적용\n",
    "rf_clf_best_corr = grid_cv_corr.best_estimator_\n",
    "rf_clf_best_corr.fit(X_train, y_train)\n",
    "\n",
    "pred2_corr = rf_clf_best_corr.predict(X_test)\n",
    "accuracy_score(y_test, pred2_corr)"
   ]
  },
  {
   "cell_type": "code",
   "execution_count": 264,
   "metadata": {},
   "outputs": [
    {
     "name": "stderr",
     "output_type": "stream",
     "text": [
      "/Users/sangminkim/miniforge3/lib/python3.10/site-packages/lightgbm/sklearn.py:726: UserWarning: 'early_stopping_rounds' argument is deprecated and will be removed in a future release of LightGBM. Pass 'early_stopping()' callback via 'callbacks' argument instead.\n",
      "  _log_warning(\"'early_stopping_rounds' argument is deprecated and will be removed in a future release of LightGBM. \"\n"
     ]
    },
    {
     "name": "stdout",
     "output_type": "stream",
     "text": [
      "[1]\tvalid_0's binary_logloss: 0.592746\n",
      "[2]\tvalid_0's binary_logloss: 0.589209\n",
      "[3]\tvalid_0's binary_logloss: 0.586319\n",
      "[4]\tvalid_0's binary_logloss: 0.584076\n",
      "[5]\tvalid_0's binary_logloss: 0.582006\n",
      "[6]\tvalid_0's binary_logloss: 0.58025\n",
      "[7]\tvalid_0's binary_logloss: 0.578782\n",
      "[8]\tvalid_0's binary_logloss: 0.577577\n",
      "[9]\tvalid_0's binary_logloss: 0.57653\n",
      "[10]\tvalid_0's binary_logloss: 0.575794\n",
      "[11]\tvalid_0's binary_logloss: 0.575125\n",
      "[12]\tvalid_0's binary_logloss: 0.574553\n",
      "[13]\tvalid_0's binary_logloss: 0.574078\n",
      "[14]\tvalid_0's binary_logloss: 0.573454\n",
      "[15]\tvalid_0's binary_logloss: 0.572996\n",
      "[16]\tvalid_0's binary_logloss: 0.572635\n",
      "[17]\tvalid_0's binary_logloss: 0.572377\n",
      "[18]\tvalid_0's binary_logloss: 0.571983\n",
      "[19]\tvalid_0's binary_logloss: 0.571786\n",
      "[20]\tvalid_0's binary_logloss: 0.571499\n",
      "[21]\tvalid_0's binary_logloss: 0.571337\n",
      "[22]\tvalid_0's binary_logloss: 0.571048\n",
      "[23]\tvalid_0's binary_logloss: 0.570744\n",
      "[24]\tvalid_0's binary_logloss: 0.570623\n",
      "[25]\tvalid_0's binary_logloss: 0.570487\n",
      "[26]\tvalid_0's binary_logloss: 0.570304\n",
      "[27]\tvalid_0's binary_logloss: 0.570157\n",
      "[28]\tvalid_0's binary_logloss: 0.570074\n",
      "[29]\tvalid_0's binary_logloss: 0.569971\n",
      "[30]\tvalid_0's binary_logloss: 0.569861\n",
      "[31]\tvalid_0's binary_logloss: 0.569804\n",
      "[32]\tvalid_0's binary_logloss: 0.569738\n",
      "[33]\tvalid_0's binary_logloss: 0.569801\n",
      "[34]\tvalid_0's binary_logloss: 0.569685\n",
      "[35]\tvalid_0's binary_logloss: 0.569537\n",
      "[36]\tvalid_0's binary_logloss: 0.569504\n",
      "[37]\tvalid_0's binary_logloss: 0.569454\n",
      "[38]\tvalid_0's binary_logloss: 0.569473\n",
      "[39]\tvalid_0's binary_logloss: 0.569363\n",
      "[40]\tvalid_0's binary_logloss: 0.569414\n",
      "[41]\tvalid_0's binary_logloss: 0.569401\n",
      "[42]\tvalid_0's binary_logloss: 0.569349\n",
      "[43]\tvalid_0's binary_logloss: 0.569349\n",
      "[44]\tvalid_0's binary_logloss: 0.569373\n",
      "[45]\tvalid_0's binary_logloss: 0.569273\n",
      "[46]\tvalid_0's binary_logloss: 0.569202\n",
      "[47]\tvalid_0's binary_logloss: 0.569207\n",
      "[48]\tvalid_0's binary_logloss: 0.569342\n",
      "[49]\tvalid_0's binary_logloss: 0.569377\n",
      "[50]\tvalid_0's binary_logloss: 0.569448\n",
      "[51]\tvalid_0's binary_logloss: 0.569486\n",
      "[52]\tvalid_0's binary_logloss: 0.569491\n",
      "[53]\tvalid_0's binary_logloss: 0.56955\n",
      "[54]\tvalid_0's binary_logloss: 0.569587\n",
      "[55]\tvalid_0's binary_logloss: 0.569613\n",
      "[56]\tvalid_0's binary_logloss: 0.569582\n",
      "[57]\tvalid_0's binary_logloss: 0.56963\n",
      "[58]\tvalid_0's binary_logloss: 0.56977\n",
      "[59]\tvalid_0's binary_logloss: 0.569799\n",
      "[60]\tvalid_0's binary_logloss: 0.56979\n",
      "[61]\tvalid_0's binary_logloss: 0.569858\n",
      "[62]\tvalid_0's binary_logloss: 0.569901\n",
      "[63]\tvalid_0's binary_logloss: 0.569877\n",
      "[64]\tvalid_0's binary_logloss: 0.569778\n",
      "[65]\tvalid_0's binary_logloss: 0.569763\n",
      "[66]\tvalid_0's binary_logloss: 0.569761\n"
     ]
    },
    {
     "data": {
      "text/plain": [
       "0.7190336271629122"
      ]
     },
     "execution_count": 264,
     "metadata": {},
     "output_type": "execute_result"
    }
   ],
   "source": [
    "# LightGBM\n",
    "\n",
    "evals = [(X_test.values, y_test)]\n",
    "\n",
    "lgbm = LGBMClassifier(n_estimators=400)\n",
    "lgbm.fit(X_train.values, y_train, early_stopping_rounds=20, eval_set=evals)\n",
    "\n",
    "accuracy_score(y_test, lgbm.predict(X_test.values))"
   ]
  },
  {
   "attachments": {},
   "cell_type": "markdown",
   "metadata": {},
   "source": [
    "* 최초에 corr 이 높은 컬럼을 기준으로 모델을 돌렸지만 오히려 성능이 더 안 좋아졌다."
   ]
  },
  {
   "attachments": {},
   "cell_type": "markdown",
   "metadata": {},
   "source": [
    "---"
   ]
  },
  {
   "attachments": {},
   "cell_type": "markdown",
   "metadata": {},
   "source": [
    "## 모델 평가\n",
    "- 앞서 accuracy score 를 확인해보았지만, imbalanced 한 데이터이므로 다른 평가방법도 확인토록 한다."
   ]
  },
  {
   "cell_type": "code",
   "execution_count": 41,
   "metadata": {},
   "outputs": [],
   "source": [
    "from sklearn.metrics import accuracy_score, precision_score, recall_score, f1_score, roc_auc_score\n",
    "\n",
    "def get_clf_eval(y_test, pred):\n",
    "    acc = accuracy_score(y_test, pred)\n",
    "    pre = precision_score(y_test, pred)\n",
    "    re = recall_score(y_test, pred)\n",
    "    f1 = f1_score(y_test, pred)\n",
    "    auc = roc_auc_score(y_test, pred)\n",
    "    \n",
    "    return acc, pre, re, f1, auc"
   ]
  },
  {
   "cell_type": "code",
   "execution_count": 42,
   "metadata": {},
   "outputs": [],
   "source": [
    "from sklearn.metrics import confusion_matrix\n",
    "\n",
    "def print_clf_eval(y_test, pred):\n",
    "    confusion = confusion_matrix(y_test, pred)\n",
    "    acc, pre, re, f1, auc = get_clf_eval(y_test, pred)\n",
    "    \n",
    "    print('==> Confusion matrix')\n",
    "    print(confusion)\n",
    "    print('=====================')\n",
    "    \n",
    "    print('Accuracy: {0:.4f}, Precision: {1:.4f}'.format(acc, pre))\n",
    "    print('Recall: {0:.4f}, F1: {1:.4f}, AUC: {2:.4f}'.format(re, f1, auc))"
   ]
  },
  {
   "cell_type": "code",
   "execution_count": 46,
   "metadata": {},
   "outputs": [
    {
     "name": "stdout",
     "output_type": "stream",
     "text": [
      "==> Confusion matrix\n",
      "[[10517   443]\n",
      " [ 3919   436]]\n",
      "=====================\n",
      "Accuracy: 0.7152, Precision: 0.4960\n",
      "Recall: 0.1001, F1: 0.1666, AUC: 0.5298\n",
      "CPU times: user 295 ms, sys: 5 ms, total: 300 ms\n",
      "Wall time: 298 ms\n"
     ]
    }
   ],
   "source": [
    "%%time\n",
    "\n",
    "# Decision Tree\n",
    "dt_clf.fit(X_train, y_train)\n",
    "dt_pred = dt_clf.predict(X_test)\n",
    "\n",
    "print_clf_eval(y_test, dt_pred)"
   ]
  },
  {
   "cell_type": "code",
   "execution_count": 49,
   "metadata": {},
   "outputs": [
    {
     "name": "stdout",
     "output_type": "stream",
     "text": [
      "              precision    recall  f1-score   support\n",
      "\n",
      "           0       0.73      0.96      0.83     10960\n",
      "           1       0.50      0.10      0.17      4355\n",
      "\n",
      "    accuracy                           0.72     15315\n",
      "   macro avg       0.61      0.53      0.50     15315\n",
      "weighted avg       0.66      0.72      0.64     15315\n",
      "\n"
     ]
    }
   ],
   "source": [
    "from sklearn.metrics import classification_report\n",
    "print(classification_report(y_test, dt_pred))"
   ]
  },
  {
   "cell_type": "code",
   "execution_count": 47,
   "metadata": {},
   "outputs": [
    {
     "name": "stdout",
     "output_type": "stream",
     "text": [
      "==> Confusion matrix\n",
      "[[10830   130]\n",
      " [ 4140   215]]\n",
      "=====================\n",
      "Accuracy: 0.7212, Precision: 0.6232\n",
      "Recall: 0.0494, F1: 0.0915, AUC: 0.5188\n",
      "CPU times: user 3.28 s, sys: 65.9 ms, total: 3.35 s\n",
      "Wall time: 636 ms\n"
     ]
    }
   ],
   "source": [
    "%%time\n",
    "\n",
    "# Random Forest\n",
    "rf_clf_best.fit(X_train, y_train)\n",
    "rf_pred = rf_clf_best.predict(X_test)\n",
    "\n",
    "print_clf_eval(y_test, rf_pred)"
   ]
  },
  {
   "cell_type": "code",
   "execution_count": 50,
   "metadata": {},
   "outputs": [
    {
     "name": "stdout",
     "output_type": "stream",
     "text": [
      "              precision    recall  f1-score   support\n",
      "\n",
      "           0       0.72      0.99      0.84     10960\n",
      "           1       0.62      0.05      0.09      4355\n",
      "\n",
      "    accuracy                           0.72     15315\n",
      "   macro avg       0.67      0.52      0.46     15315\n",
      "weighted avg       0.69      0.72      0.62     15315\n",
      "\n"
     ]
    }
   ],
   "source": [
    "print(classification_report(y_test, rf_pred))"
   ]
  },
  {
   "cell_type": "code",
   "execution_count": 48,
   "metadata": {},
   "outputs": [
    {
     "name": "stdout",
     "output_type": "stream",
     "text": [
      "==> Confusion matrix\n",
      "[[10055   905]\n",
      " [ 3466   889]]\n",
      "=====================\n",
      "Accuracy: 0.7146, Precision: 0.4955\n",
      "Recall: 0.2041, F1: 0.2892, AUC: 0.5608\n",
      "CPU times: user 7.05 s, sys: 4.9 s, total: 11.9 s\n",
      "Wall time: 7.14 s\n"
     ]
    }
   ],
   "source": [
    "%%time\n",
    "\n",
    "# LGBM서\n",
    "lgbm_clf = LGBMClassifier(random_state=13, n_estimators=1000, n_jobs=-1, num_leaves=64, boost_from_average=False)\n",
    "lgbm_clf.fit(X_train, y_train)\n",
    "lgbm_pred = lgbm_clf.predict(X_test)\n",
    "\n",
    "print_clf_eval(y_test, lgbm_pred)"
   ]
  },
  {
   "cell_type": "code",
   "execution_count": 51,
   "metadata": {},
   "outputs": [
    {
     "name": "stdout",
     "output_type": "stream",
     "text": [
      "              precision    recall  f1-score   support\n",
      "\n",
      "           0       0.74      0.92      0.82     10960\n",
      "           1       0.50      0.20      0.29      4355\n",
      "\n",
      "    accuracy                           0.71     15315\n",
      "   macro avg       0.62      0.56      0.56     15315\n",
      "weighted avg       0.67      0.71      0.67     15315\n",
      "\n"
     ]
    }
   ],
   "source": [
    "print(classification_report(y_test, lgbm_pred))"
   ]
  },
  {
   "attachments": {},
   "cell_type": "markdown",
   "metadata": {},
   "source": [
    "- accuracy 는 71~2%의 확률\n",
    "- 그러나 imbalanced 자료로 f1-score를 확인했을 때 avg가 둘다 accuracy보다 낮다."
   ]
  },
  {
   "attachments": {},
   "cell_type": "markdown",
   "metadata": {},
   "source": [
    "#### Permutation importance 사용해서 중요변수 확인해보기"
   ]
  },
  {
   "cell_type": "code",
   "execution_count": null,
   "metadata": {},
   "outputs": [],
   "source": []
  },
  {
   "attachments": {},
   "cell_type": "markdown",
   "metadata": {},
   "source": [
    "---"
   ]
  }
 ],
 "metadata": {
  "kernelspec": {
   "display_name": "base",
   "language": "python",
   "name": "python3"
  },
  "language_info": {
   "codemirror_mode": {
    "name": "ipython",
    "version": 3
   },
   "file_extension": ".py",
   "mimetype": "text/x-python",
   "name": "python",
   "nbconvert_exporter": "python",
   "pygments_lexer": "ipython3",
   "version": "3.10.10"
  },
  "orig_nbformat": 4
 },
 "nbformat": 4,
 "nbformat_minor": 2
}
